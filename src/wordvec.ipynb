{
 "cells": [
  {
   "cell_type": "code",
   "execution_count": 1,
   "id": "9621a7f8",
   "metadata": {},
   "outputs": [],
   "source": [
    "from gensim.test.utils import datapath\n",
    "from gensim import utils\n",
    "\n",
    "class MyCorpus:\n",
    "    \"\"\"An iterator that yields sentences (lists of str).\"\"\"\n",
    "    def __init__(self):\n",
    "        p = []\n",
    "        with open(\"phrases.txt\") as f:\n",
    "            for line in f:\n",
    "                p.append(line.split())\n",
    "        self.p = dict(p)\n",
    "    def __iter__(self):\n",
    "        corpus_path = datapath('lee_background.cor')\n",
    "        for line in open(corpus_path):\n",
    "            # assume there's one document per line, tokens separated by whitespace\n",
    "            s = utils.simple_preprocess(line)\n",
    "            i = 0\n",
    "            new_s = []\n",
    "            while i < len(s) - 1:\n",
    "                if (s[i+1] == self.p.get(s[i], False)):\n",
    "                    new_s.append(s[i] + \"_\" + s[i+1])\n",
    "                    i+=2\n",
    "                else:\n",
    "                    new_s.append(s[i])\n",
    "                    i+=1\n",
    "            yield new_s\n"
   ]
  },
  {
   "cell_type": "code",
   "execution_count": 2,
   "id": "8bf77d8d",
   "metadata": {},
   "outputs": [],
   "source": [
    "import logging\n",
    "logging.basicConfig(format='%(asctime)s : %(levelname)s : %(message)s', level=logging.INFO)"
   ]
  },
  {
   "cell_type": "code",
   "execution_count": 3,
   "id": "f75cca2b",
   "metadata": {},
   "outputs": [],
   "source": [
    "class moreCorpus:\n",
    "    def __iter__(self):\n",
    "        for line in open(\"phrased_bags.dat\"):\n",
    "            yield line.split()"
   ]
  },
  {
   "cell_type": "code",
   "execution_count": 4,
   "id": "b95b3f30",
   "metadata": {},
   "outputs": [
    {
     "name": "stderr",
     "output_type": "stream",
     "text": [
      "2021-12-03 19:20:56,052 : INFO : collecting all words and their counts\n",
      "2021-12-03 19:20:56,055 : INFO : PROGRESS: at sentence #0, processed 0 words, keeping 0 word types\n",
      "2021-12-03 19:20:56,142 : INFO : collected 6953 word types from a corpus of 57835 raw words and 300 sentences\n",
      "2021-12-03 19:20:56,143 : INFO : Creating a fresh vocabulary\n",
      "2021-12-03 19:20:56,151 : INFO : Word2Vec lifecycle event {'msg': 'effective_min_count=5 retains 1739 unique words (25.01078671077233%% of original 6953, drops 5214)', 'datetime': '2021-12-03T19:20:56.150649', 'gensim': '4.1.3.dev0', 'python': '3.8.8 (default, Apr 13 2021, 15:08:03) [MSC v.1916 64 bit (AMD64)]', 'platform': 'Windows-10-10.0.19041-SP0', 'event': 'prepare_vocab'}\n",
      "2021-12-03 19:20:56,152 : INFO : Word2Vec lifecycle event {'msg': 'effective_min_count=5 leaves 49031 word corpus (84.77738393706234%% of original 57835, drops 8804)', 'datetime': '2021-12-03T19:20:56.151648', 'gensim': '4.1.3.dev0', 'python': '3.8.8 (default, Apr 13 2021, 15:08:03) [MSC v.1916 64 bit (AMD64)]', 'platform': 'Windows-10-10.0.19041-SP0', 'event': 'prepare_vocab'}\n",
      "2021-12-03 19:20:56,160 : INFO : deleting the raw counts dictionary of 6953 items\n",
      "2021-12-03 19:20:56,161 : INFO : sample=0.001 downsamples 51 most-common words\n",
      "2021-12-03 19:20:56,162 : INFO : Word2Vec lifecycle event {'msg': 'downsampling leaves estimated 35662.53080575807 word corpus (72.7%% of prior 49031)', 'datetime': '2021-12-03T19:20:56.162649', 'gensim': '4.1.3.dev0', 'python': '3.8.8 (default, Apr 13 2021, 15:08:03) [MSC v.1916 64 bit (AMD64)]', 'platform': 'Windows-10-10.0.19041-SP0', 'event': 'prepare_vocab'}\n",
      "2021-12-03 19:20:56,178 : INFO : estimated required memory for 1739 words and 100 dimensions: 2260700 bytes\n",
      "2021-12-03 19:20:56,179 : INFO : resetting layer weights\n",
      "2021-12-03 19:20:56,181 : INFO : Word2Vec lifecycle event {'update': False, 'trim_rule': 'None', 'datetime': '2021-12-03T19:20:56.181651', 'gensim': '4.1.3.dev0', 'python': '3.8.8 (default, Apr 13 2021, 15:08:03) [MSC v.1916 64 bit (AMD64)]', 'platform': 'Windows-10-10.0.19041-SP0', 'event': 'build_vocab'}\n",
      "2021-12-03 19:20:56,182 : INFO : Word2Vec lifecycle event {'msg': 'training model with 3 workers on 1739 vocabulary and 100 features, using sg=0 hs=0 sample=0.001 negative=5 window=5 shrink_windows=True', 'datetime': '2021-12-03T19:20:56.182150', 'gensim': '4.1.3.dev0', 'python': '3.8.8 (default, Apr 13 2021, 15:08:03) [MSC v.1916 64 bit (AMD64)]', 'platform': 'Windows-10-10.0.19041-SP0', 'event': 'train'}\n",
      "2021-12-03 19:20:56,274 : INFO : worker thread finished; awaiting finish of 2 more threads\n",
      "2021-12-03 19:20:56,275 : INFO : worker thread finished; awaiting finish of 1 more threads\n",
      "2021-12-03 19:20:56,280 : INFO : worker thread finished; awaiting finish of 0 more threads\n",
      "2021-12-03 19:20:56,281 : INFO : EPOCH - 1 : training on 57835 raw words (35656 effective words) took 0.1s, 371523 effective words/s\n",
      "2021-12-03 19:20:56,371 : INFO : worker thread finished; awaiting finish of 2 more threads\n",
      "2021-12-03 19:20:56,372 : INFO : worker thread finished; awaiting finish of 1 more threads\n",
      "2021-12-03 19:20:56,376 : INFO : worker thread finished; awaiting finish of 0 more threads\n",
      "2021-12-03 19:20:56,377 : INFO : EPOCH - 2 : training on 57835 raw words (35735 effective words) took 0.1s, 380466 effective words/s\n",
      "2021-12-03 19:20:56,464 : INFO : worker thread finished; awaiting finish of 2 more threads\n",
      "2021-12-03 19:20:56,467 : INFO : worker thread finished; awaiting finish of 1 more threads\n",
      "2021-12-03 19:20:56,470 : INFO : worker thread finished; awaiting finish of 0 more threads\n",
      "2021-12-03 19:20:56,470 : INFO : EPOCH - 3 : training on 57835 raw words (35632 effective words) took 0.1s, 390744 effective words/s\n",
      "2021-12-03 19:20:56,562 : INFO : worker thread finished; awaiting finish of 2 more threads\n",
      "2021-12-03 19:20:56,563 : INFO : worker thread finished; awaiting finish of 1 more threads\n",
      "2021-12-03 19:20:56,569 : INFO : worker thread finished; awaiting finish of 0 more threads\n",
      "2021-12-03 19:20:56,570 : INFO : EPOCH - 4 : training on 57835 raw words (35734 effective words) took 0.1s, 365501 effective words/s\n",
      "2021-12-03 19:20:56,659 : INFO : worker thread finished; awaiting finish of 2 more threads\n",
      "2021-12-03 19:20:56,660 : INFO : worker thread finished; awaiting finish of 1 more threads\n",
      "2021-12-03 19:20:56,664 : INFO : worker thread finished; awaiting finish of 0 more threads\n",
      "2021-12-03 19:20:56,665 : INFO : EPOCH - 5 : training on 57835 raw words (35674 effective words) took 0.1s, 385975 effective words/s\n",
      "2021-12-03 19:20:56,665 : INFO : Word2Vec lifecycle event {'msg': 'training on 289175 raw words (178431 effective words) took 0.5s, 369785 effective words/s', 'datetime': '2021-12-03T19:20:56.665648', 'gensim': '4.1.3.dev0', 'python': '3.8.8 (default, Apr 13 2021, 15:08:03) [MSC v.1916 64 bit (AMD64)]', 'platform': 'Windows-10-10.0.19041-SP0', 'event': 'train'}\n",
      "2021-12-03 19:20:56,666 : INFO : Word2Vec lifecycle event {'params': 'Word2Vec<vocab=1739, vector_size=100, alpha=0.025>', 'datetime': '2021-12-03T19:20:56.666148', 'gensim': '4.1.3.dev0', 'python': '3.8.8 (default, Apr 13 2021, 15:08:03) [MSC v.1916 64 bit (AMD64)]', 'platform': 'Windows-10-10.0.19041-SP0', 'event': 'created'}\n"
     ]
    }
   ],
   "source": [
    "import gensim.models\n",
    "\n",
    "sentences = MyCorpus()\n",
    "model = gensim.models.Word2Vec(sentences=sentences)"
   ]
  },
  {
   "cell_type": "code",
   "execution_count": 5,
   "id": "9638d2af",
   "metadata": {},
   "outputs": [
    {
     "name": "stderr",
     "output_type": "stream",
     "text": [
      "2021-12-03 19:21:06,062 : INFO : collecting all words and their counts\n",
      "2021-12-03 19:21:06,071 : INFO : PROGRESS: at sentence #0, processed 0 words, keeping 0 word types\n",
      "2021-12-03 19:21:11,726 : INFO : collected 253854 word types from a corpus of 17005207 raw words and 1701 sentences\n",
      "2021-12-03 19:21:11,727 : INFO : Updating model with new vocabulary\n",
      "2021-12-03 19:21:12,115 : INFO : Word2Vec lifecycle event {'msg': 'added 69587 new unique words (27.412213319467096%% of original 253854) and increased the count of 1703 pre-existing words (0.6708580522662633%% of original 253854)', 'datetime': '2021-12-03T19:21:12.115648', 'gensim': '4.1.3.dev0', 'python': '3.8.8 (default, Apr 13 2021, 15:08:03) [MSC v.1916 64 bit (AMD64)]', 'platform': 'Windows-10-10.0.19041-SP0', 'event': 'prepare_vocab'}\n",
      "2021-12-03 19:21:12,419 : INFO : deleting the raw counts dictionary of 253854 items\n",
      "2021-12-03 19:21:12,429 : INFO : sample=0.001 downsamples 38 most-common words\n",
      "2021-12-03 19:21:12,430 : INFO : Word2Vec lifecycle event {'msg': 'downsampling leaves estimated 12506280.016269669 word corpus (74.8%% of prior 16718844)', 'datetime': '2021-12-03T19:21:12.430147', 'gensim': '4.1.3.dev0', 'python': '3.8.8 (default, Apr 13 2021, 15:08:03) [MSC v.1916 64 bit (AMD64)]', 'platform': 'Windows-10-10.0.19041-SP0', 'event': 'prepare_vocab'}\n",
      "2021-12-03 19:21:12,906 : INFO : estimated required memory for 71290 words and 100 dimensions: 92677000 bytes\n",
      "2021-12-03 19:21:12,907 : INFO : updating layer weights\n",
      "2021-12-03 19:21:12,947 : INFO : Word2Vec lifecycle event {'update': True, 'trim_rule': 'None', 'datetime': '2021-12-03T19:21:12.947148', 'gensim': '4.1.3.dev0', 'python': '3.8.8 (default, Apr 13 2021, 15:08:03) [MSC v.1916 64 bit (AMD64)]', 'platform': 'Windows-10-10.0.19041-SP0', 'event': 'build_vocab'}\n",
      "2021-12-03 19:21:12,948 : WARNING : Effective 'alpha' higher than previous training cycles\n",
      "2021-12-03 19:21:12,948 : INFO : Word2Vec lifecycle event {'msg': 'training model with 3 workers on 71326 vocabulary and 100 features, using sg=0 hs=0 sample=0.001 negative=5 window=5 shrink_windows=True', 'datetime': '2021-12-03T19:21:12.948149', 'gensim': '4.1.3.dev0', 'python': '3.8.8 (default, Apr 13 2021, 15:08:03) [MSC v.1916 64 bit (AMD64)]', 'platform': 'Windows-10-10.0.19041-SP0', 'event': 'train'}\n",
      "2021-12-03 19:21:13,955 : INFO : EPOCH 1 - PROGRESS: at 9.05% examples, 1118607 words/s, in_qsize 5, out_qsize 0\n",
      "2021-12-03 19:21:14,958 : INFO : EPOCH 1 - PROGRESS: at 18.22% examples, 1129144 words/s, in_qsize 4, out_qsize 0\n",
      "2021-12-03 19:21:15,965 : INFO : EPOCH 1 - PROGRESS: at 27.16% examples, 1124909 words/s, in_qsize 5, out_qsize 0\n",
      "2021-12-03 19:21:16,970 : INFO : EPOCH 1 - PROGRESS: at 36.21% examples, 1128993 words/s, in_qsize 5, out_qsize 0\n",
      "2021-12-03 19:21:17,974 : INFO : EPOCH 1 - PROGRESS: at 45.50% examples, 1135154 words/s, in_qsize 5, out_qsize 0\n",
      "2021-12-03 19:21:18,979 : INFO : EPOCH 1 - PROGRESS: at 54.09% examples, 1125112 words/s, in_qsize 5, out_qsize 0\n",
      "2021-12-03 19:21:19,988 : INFO : EPOCH 1 - PROGRESS: at 62.55% examples, 1114588 words/s, in_qsize 5, out_qsize 0\n",
      "2021-12-03 19:21:21,010 : INFO : EPOCH 1 - PROGRESS: at 70.25% examples, 1092969 words/s, in_qsize 5, out_qsize 0\n",
      "2021-12-03 19:21:22,010 : INFO : EPOCH 1 - PROGRESS: at 78.95% examples, 1090827 words/s, in_qsize 5, out_qsize 0\n",
      "2021-12-03 19:21:23,019 : INFO : EPOCH 1 - PROGRESS: at 87.65% examples, 1089388 words/s, in_qsize 5, out_qsize 0\n",
      "2021-12-03 19:21:24,028 : INFO : EPOCH 1 - PROGRESS: at 97.00% examples, 1095368 words/s, in_qsize 5, out_qsize 0\n",
      "2021-12-03 19:21:24,343 : INFO : worker thread finished; awaiting finish of 2 more threads\n",
      "2021-12-03 19:21:24,349 : INFO : worker thread finished; awaiting finish of 1 more threads\n",
      "2021-12-03 19:21:24,353 : INFO : worker thread finished; awaiting finish of 0 more threads\n",
      "2021-12-03 19:21:24,353 : INFO : EPOCH - 1 : training on 17005207 raw words (12506457 effective words) took 11.4s, 1096744 effective words/s\n",
      "2021-12-03 19:21:25,360 : INFO : EPOCH 2 - PROGRESS: at 8.64% examples, 1067793 words/s, in_qsize 4, out_qsize 0\n",
      "2021-12-03 19:21:26,363 : INFO : EPOCH 2 - PROGRESS: at 17.17% examples, 1063912 words/s, in_qsize 5, out_qsize 0\n",
      "2021-12-03 19:21:27,366 : INFO : EPOCH 2 - PROGRESS: at 24.69% examples, 1023218 words/s, in_qsize 5, out_qsize 0\n",
      "2021-12-03 19:21:28,368 : INFO : EPOCH 2 - PROGRESS: at 33.16% examples, 1035059 words/s, in_qsize 4, out_qsize 0\n",
      "2021-12-03 19:21:29,373 : INFO : EPOCH 2 - PROGRESS: at 40.33% examples, 1007266 words/s, in_qsize 5, out_qsize 0\n",
      "2021-12-03 19:21:30,375 : INFO : EPOCH 2 - PROGRESS: at 48.74% examples, 1015212 words/s, in_qsize 5, out_qsize 0\n",
      "2021-12-03 19:21:31,380 : INFO : EPOCH 2 - PROGRESS: at 57.38% examples, 1024390 words/s, in_qsize 5, out_qsize 0\n",
      "2021-12-03 19:21:32,390 : INFO : EPOCH 2 - PROGRESS: at 65.26% examples, 1018680 words/s, in_qsize 5, out_qsize 0\n",
      "2021-12-03 19:21:33,393 : INFO : EPOCH 2 - PROGRESS: at 72.72% examples, 1009298 words/s, in_qsize 5, out_qsize 0\n",
      "2021-12-03 19:21:34,393 : INFO : EPOCH 2 - PROGRESS: at 79.25% examples, 988404 words/s, in_qsize 5, out_qsize 0\n",
      "2021-12-03 19:21:35,400 : INFO : EPOCH 2 - PROGRESS: at 86.83% examples, 983932 words/s, in_qsize 5, out_qsize 0\n",
      "2021-12-03 19:21:36,408 : INFO : EPOCH 2 - PROGRESS: at 94.36% examples, 979553 words/s, in_qsize 5, out_qsize 0\n",
      "2021-12-03 19:21:37,112 : INFO : worker thread finished; awaiting finish of 2 more threads\n",
      "2021-12-03 19:21:37,119 : INFO : worker thread finished; awaiting finish of 1 more threads\n",
      "2021-12-03 19:21:37,120 : INFO : worker thread finished; awaiting finish of 0 more threads\n",
      "2021-12-03 19:21:37,120 : INFO : EPOCH - 2 : training on 17005207 raw words (12507424 effective words) took 12.8s, 979798 effective words/s\n",
      "2021-12-03 19:21:38,123 : INFO : EPOCH 3 - PROGRESS: at 8.29% examples, 1028266 words/s, in_qsize 5, out_qsize 0\n",
      "2021-12-03 19:21:39,135 : INFO : EPOCH 3 - PROGRESS: at 16.58% examples, 1024197 words/s, in_qsize 5, out_qsize 0\n",
      "2021-12-03 19:21:40,143 : INFO : EPOCH 3 - PROGRESS: at 23.28% examples, 961045 words/s, in_qsize 5, out_qsize 0\n",
      "2021-12-03 19:21:41,144 : INFO : EPOCH 3 - PROGRESS: at 30.45% examples, 947331 words/s, in_qsize 5, out_qsize 0\n",
      "2021-12-03 19:21:42,149 : INFO : EPOCH 3 - PROGRESS: at 38.27% examples, 954166 words/s, in_qsize 5, out_qsize 0\n",
      "2021-12-03 19:21:43,159 : INFO : EPOCH 3 - PROGRESS: at 45.91% examples, 953583 words/s, in_qsize 6, out_qsize 0\n",
      "2021-12-03 19:21:44,164 : INFO : EPOCH 3 - PROGRESS: at 54.09% examples, 963400 words/s, in_qsize 5, out_qsize 0\n",
      "2021-12-03 19:21:45,176 : INFO : EPOCH 3 - PROGRESS: at 62.08% examples, 966827 words/s, in_qsize 5, out_qsize 0\n",
      "2021-12-03 19:21:46,177 : INFO : EPOCH 3 - PROGRESS: at 69.43% examples, 961759 words/s, in_qsize 5, out_qsize 0\n",
      "2021-12-03 19:21:47,185 : INFO : EPOCH 3 - PROGRESS: at 77.72% examples, 967041 words/s, in_qsize 5, out_qsize 0\n",
      "2021-12-03 19:21:48,187 : INFO : EPOCH 3 - PROGRESS: at 85.42% examples, 966294 words/s, in_qsize 5, out_qsize 0\n",
      "2021-12-03 19:21:49,200 : INFO : EPOCH 3 - PROGRESS: at 93.53% examples, 969080 words/s, in_qsize 5, out_qsize 0\n",
      "2021-12-03 19:21:50,053 : INFO : worker thread finished; awaiting finish of 2 more threads\n",
      "2021-12-03 19:21:50,064 : INFO : worker thread finished; awaiting finish of 1 more threads\n",
      "2021-12-03 19:21:50,066 : INFO : worker thread finished; awaiting finish of 0 more threads\n",
      "2021-12-03 19:21:50,067 : INFO : EPOCH - 3 : training on 17005207 raw words (12507971 effective words) took 12.9s, 966304 effective words/s\n",
      "2021-12-03 19:21:51,079 : INFO : EPOCH 4 - PROGRESS: at 8.52% examples, 1047071 words/s, in_qsize 5, out_qsize 0\n",
      "2021-12-03 19:21:52,085 : INFO : EPOCH 4 - PROGRESS: at 17.52% examples, 1080988 words/s, in_qsize 5, out_qsize 0\n",
      "2021-12-03 19:21:53,094 : INFO : EPOCH 4 - PROGRESS: at 25.28% examples, 1042284 words/s, in_qsize 5, out_qsize 0\n",
      "2021-12-03 19:21:54,106 : INFO : EPOCH 4 - PROGRESS: at 33.45% examples, 1037516 words/s, in_qsize 5, out_qsize 0\n",
      "2021-12-03 19:21:55,110 : INFO : EPOCH 4 - PROGRESS: at 41.74% examples, 1037490 words/s, in_qsize 4, out_qsize 0\n",
      "2021-12-03 19:21:56,114 : INFO : EPOCH 4 - PROGRESS: at 50.32% examples, 1043788 words/s, in_qsize 5, out_qsize 0\n"
     ]
    },
    {
     "name": "stderr",
     "output_type": "stream",
     "text": [
      "2021-12-03 19:21:57,120 : INFO : EPOCH 4 - PROGRESS: at 58.08% examples, 1032966 words/s, in_qsize 5, out_qsize 0\n",
      "2021-12-03 19:21:58,121 : INFO : EPOCH 4 - PROGRESS: at 66.08% examples, 1029060 words/s, in_qsize 5, out_qsize 0\n",
      "2021-12-03 19:21:59,126 : INFO : EPOCH 4 - PROGRESS: at 74.19% examples, 1027583 words/s, in_qsize 5, out_qsize 0\n",
      "2021-12-03 19:22:00,128 : INFO : EPOCH 4 - PROGRESS: at 81.36% examples, 1012409 words/s, in_qsize 5, out_qsize 0\n",
      "2021-12-03 19:22:01,130 : INFO : EPOCH 4 - PROGRESS: at 89.59% examples, 1013870 words/s, in_qsize 5, out_qsize 0\n",
      "2021-12-03 19:22:02,135 : INFO : EPOCH 4 - PROGRESS: at 97.71% examples, 1012808 words/s, in_qsize 5, out_qsize 0\n",
      "2021-12-03 19:22:02,376 : INFO : worker thread finished; awaiting finish of 2 more threads\n",
      "2021-12-03 19:22:02,380 : INFO : worker thread finished; awaiting finish of 1 more threads\n",
      "2021-12-03 19:22:02,381 : INFO : worker thread finished; awaiting finish of 0 more threads\n",
      "2021-12-03 19:22:02,382 : INFO : EPOCH - 4 : training on 17005207 raw words (12505594 effective words) took 12.3s, 1015614 effective words/s\n",
      "2021-12-03 19:22:03,389 : INFO : EPOCH 5 - PROGRESS: at 8.64% examples, 1067570 words/s, in_qsize 5, out_qsize 0\n",
      "2021-12-03 19:22:04,392 : INFO : EPOCH 5 - PROGRESS: at 16.75% examples, 1037810 words/s, in_qsize 6, out_qsize 0\n",
      "2021-12-03 19:22:05,396 : INFO : EPOCH 5 - PROGRESS: at 24.93% examples, 1032266 words/s, in_qsize 5, out_qsize 0\n",
      "2021-12-03 19:22:06,401 : INFO : EPOCH 5 - PROGRESS: at 32.86% examples, 1024341 words/s, in_qsize 5, out_qsize 0\n",
      "2021-12-03 19:22:07,409 : INFO : EPOCH 5 - PROGRESS: at 40.15% examples, 1001412 words/s, in_qsize 5, out_qsize 0\n",
      "2021-12-03 19:22:08,416 : INFO : EPOCH 5 - PROGRESS: at 47.68% examples, 990920 words/s, in_qsize 6, out_qsize 0\n",
      "2021-12-03 19:22:09,419 : INFO : EPOCH 5 - PROGRESS: at 56.20% examples, 1002257 words/s, in_qsize 5, out_qsize 0\n",
      "2021-12-03 19:22:10,421 : INFO : EPOCH 5 - PROGRESS: at 64.20% examples, 1001820 words/s, in_qsize 6, out_qsize 0\n",
      "2021-12-03 19:22:11,425 : INFO : EPOCH 5 - PROGRESS: at 72.08% examples, 999918 words/s, in_qsize 5, out_qsize 0\n",
      "2021-12-03 19:22:12,433 : INFO : EPOCH 5 - PROGRESS: at 79.19% examples, 986556 words/s, in_qsize 5, out_qsize 0\n",
      "2021-12-03 19:22:13,440 : INFO : EPOCH 5 - PROGRESS: at 86.65% examples, 981086 words/s, in_qsize 5, out_qsize 0\n",
      "2021-12-03 19:22:14,443 : INFO : EPOCH 5 - PROGRESS: at 93.24% examples, 967573 words/s, in_qsize 5, out_qsize 0\n",
      "2021-12-03 19:22:15,389 : INFO : worker thread finished; awaiting finish of 2 more threads\n",
      "2021-12-03 19:22:15,390 : INFO : worker thread finished; awaiting finish of 1 more threads\n",
      "2021-12-03 19:22:15,396 : INFO : worker thread finished; awaiting finish of 0 more threads\n",
      "2021-12-03 19:22:15,397 : INFO : EPOCH - 5 : training on 17005207 raw words (12506760 effective words) took 13.0s, 961121 effective words/s\n",
      "2021-12-03 19:22:15,397 : INFO : Word2Vec lifecycle event {'msg': 'training on 85026035 raw words (62534206 effective words) took 62.4s, 1001367 effective words/s', 'datetime': '2021-12-03T19:22:15.397647', 'gensim': '4.1.3.dev0', 'python': '3.8.8 (default, Apr 13 2021, 15:08:03) [MSC v.1916 64 bit (AMD64)]', 'platform': 'Windows-10-10.0.19041-SP0', 'event': 'train'}\n",
      "2021-12-03 19:22:15,398 : INFO : collecting all words and their counts\n",
      "2021-12-03 19:22:15,400 : INFO : PROGRESS: at sentence #0, processed 0 words, keeping 0 word types\n",
      "2021-12-03 19:22:15,465 : INFO : collected 12250 word types from a corpus of 216470 raw words and 160 sentences\n",
      "2021-12-03 19:22:15,465 : INFO : Updating model with new vocabulary\n",
      "2021-12-03 19:22:15,689 : INFO : Word2Vec lifecycle event {'msg': 'added 458 new unique words (3.7387755102040816%% of original 12250) and increased the count of 3677 pre-existing words (30.016326530612243%% of original 12250)', 'datetime': '2021-12-03T19:22:15.689648', 'gensim': '4.1.3.dev0', 'python': '3.8.8 (default, Apr 13 2021, 15:08:03) [MSC v.1916 64 bit (AMD64)]', 'platform': 'Windows-10-10.0.19041-SP0', 'event': 'prepare_vocab'}\n",
      "2021-12-03 19:22:15,709 : INFO : deleting the raw counts dictionary of 12250 items\n",
      "2021-12-03 19:22:15,710 : INFO : sample=0.001 downsamples 56 most-common words\n",
      "2021-12-03 19:22:15,711 : INFO : Word2Vec lifecycle event {'msg': 'downsampling leaves estimated 180867.80429278902 word corpus (89.1%% of prior 202962)', 'datetime': '2021-12-03T19:22:15.711148', 'gensim': '4.1.3.dev0', 'python': '3.8.8 (default, Apr 13 2021, 15:08:03) [MSC v.1916 64 bit (AMD64)]', 'platform': 'Windows-10-10.0.19041-SP0', 'event': 'prepare_vocab'}\n",
      "2021-12-03 19:22:16,212 : INFO : estimated required memory for 4135 words and 100 dimensions: 5375500 bytes\n",
      "2021-12-03 19:22:16,213 : INFO : updating layer weights\n",
      "2021-12-03 19:22:16,267 : INFO : Word2Vec lifecycle event {'update': True, 'trim_rule': 'None', 'datetime': '2021-12-03T19:22:16.267649', 'gensim': '4.1.3.dev0', 'python': '3.8.8 (default, Apr 13 2021, 15:08:03) [MSC v.1916 64 bit (AMD64)]', 'platform': 'Windows-10-10.0.19041-SP0', 'event': 'build_vocab'}\n",
      "2021-12-03 19:22:16,269 : WARNING : Effective 'alpha' higher than previous training cycles\n",
      "2021-12-03 19:22:16,269 : INFO : Word2Vec lifecycle event {'msg': 'training model with 3 workers on 71784 vocabulary and 100 features, using sg=0 hs=0 sample=0.001 negative=5 window=5 shrink_windows=True', 'datetime': '2021-12-03T19:22:16.269650', 'gensim': '4.1.3.dev0', 'python': '3.8.8 (default, Apr 13 2021, 15:08:03) [MSC v.1916 64 bit (AMD64)]', 'platform': 'Windows-10-10.0.19041-SP0', 'event': 'train'}\n",
      "2021-12-03 19:22:16,451 : INFO : worker thread finished; awaiting finish of 2 more threads\n",
      "2021-12-03 19:22:16,454 : INFO : worker thread finished; awaiting finish of 1 more threads\n",
      "2021-12-03 19:22:16,469 : INFO : worker thread finished; awaiting finish of 0 more threads\n",
      "2021-12-03 19:22:16,469 : INFO : EPOCH - 1 : training on 216470 raw words (176098 effective words) took 0.2s, 889755 effective words/s\n",
      "2021-12-03 19:22:16,634 : INFO : worker thread finished; awaiting finish of 2 more threads\n",
      "2021-12-03 19:22:16,638 : INFO : worker thread finished; awaiting finish of 1 more threads\n",
      "2021-12-03 19:22:16,668 : INFO : worker thread finished; awaiting finish of 0 more threads\n",
      "2021-12-03 19:22:16,669 : INFO : EPOCH - 2 : training on 216470 raw words (175948 effective words) took 0.2s, 889259 effective words/s\n",
      "2021-12-03 19:22:16,813 : INFO : worker thread finished; awaiting finish of 2 more threads\n",
      "2021-12-03 19:22:16,814 : INFO : worker thread finished; awaiting finish of 1 more threads\n",
      "2021-12-03 19:22:16,830 : INFO : worker thread finished; awaiting finish of 0 more threads\n",
      "2021-12-03 19:22:16,831 : INFO : EPOCH - 3 : training on 216470 raw words (175927 effective words) took 0.2s, 1095099 effective words/s\n",
      "2021-12-03 19:22:17,013 : INFO : worker thread finished; awaiting finish of 2 more threads\n",
      "2021-12-03 19:22:17,015 : INFO : worker thread finished; awaiting finish of 1 more threads\n",
      "2021-12-03 19:22:17,036 : INFO : worker thread finished; awaiting finish of 0 more threads\n",
      "2021-12-03 19:22:17,037 : INFO : EPOCH - 4 : training on 216470 raw words (175955 effective words) took 0.2s, 863776 effective words/s\n",
      "2021-12-03 19:22:17,176 : INFO : worker thread finished; awaiting finish of 2 more threads\n",
      "2021-12-03 19:22:17,177 : INFO : worker thread finished; awaiting finish of 1 more threads\n",
      "2021-12-03 19:22:17,199 : INFO : worker thread finished; awaiting finish of 0 more threads\n",
      "2021-12-03 19:22:17,200 : INFO : EPOCH - 5 : training on 216470 raw words (175997 effective words) took 0.2s, 1086228 effective words/s\n",
      "2021-12-03 19:22:17,201 : INFO : Word2Vec lifecycle event {'msg': 'training on 1082350 raw words (879925 effective words) took 0.9s, 945281 effective words/s', 'datetime': '2021-12-03T19:22:17.201152', 'gensim': '4.1.3.dev0', 'python': '3.8.8 (default, Apr 13 2021, 15:08:03) [MSC v.1916 64 bit (AMD64)]', 'platform': 'Windows-10-10.0.19041-SP0', 'event': 'train'}\n"
     ]
    },
    {
     "data": {
      "text/plain": [
       "(879925, 1082350)"
      ]
     },
     "execution_count": 5,
     "metadata": {},
     "output_type": "execute_result"
    }
   ],
   "source": [
    "text8 = gensim.models.word2vec.Text8Corpus(\"text8\")\n",
    "model.build_vocab(text8, update=True)\n",
    "model.train(text8, total_examples=model.corpus_count, epochs=model.epochs)\n",
    "more_sentences = moreCorpus()\n",
    "model.build_vocab(more_sentences, update=True)\n",
    "model.train(more_sentences, total_examples=model.corpus_count, epochs=model.epochs)"
   ]
  },
  {
   "cell_type": "code",
   "execution_count": 8,
   "id": "aae9d97e",
   "metadata": {},
   "outputs": [
    {
     "data": {
      "text/plain": [
       "[('web_search', 0.7690072655677795),\n",
       " ('retrieval', 0.7442932724952698),\n",
       " ('clustering', 0.7120395302772522),\n",
       " ('machine_learning', 0.6908127665519714),\n",
       " ('inverted_index', 0.6896567940711975),\n",
       " ('crm', 0.6842638850212097),\n",
       " ('designing', 0.678999662399292),\n",
       " ('customer', 0.6777684688568115),\n",
       " ('training_data', 0.6761239171028137),\n",
       " ('utility', 0.6685348153114319)]"
      ]
     },
     "execution_count": 8,
     "metadata": {},
     "output_type": "execute_result"
    }
   ],
   "source": [
    "model.wv.most_similar('search_engine')"
   ]
  },
  {
   "cell_type": "code",
   "execution_count": 9,
   "id": "e40e7529",
   "metadata": {},
   "outputs": [
    {
     "data": {
      "text/plain": [
       "0.34124392"
      ]
     },
     "execution_count": 9,
     "metadata": {},
     "output_type": "execute_result"
    }
   ],
   "source": [
    "model.wv.similarity(\"test\", \"analyze\")"
   ]
  },
  {
   "cell_type": "code",
   "execution_count": 10,
   "id": "600b178b",
   "metadata": {},
   "outputs": [],
   "source": [
    "import numpy as np\n",
    "import tensorflow as tf\n",
    "from tensorflow import keras"
   ]
  },
  {
   "cell_type": "code",
   "execution_count": 11,
   "id": "10a9bedd",
   "metadata": {},
   "outputs": [],
   "source": [
    "hitx = []\n",
    "hity = []\n",
    "pos = 0\n",
    "neg = 0\n",
    "                \n",
    "with open(\"miss.dat\") as f:\n",
    "    for line in f:\n",
    "        for word in utils.simple_preprocess(line):\n",
    "            try:\n",
    "                hitx.append(model.wv[word])\n",
    "                hity.append(0.0)\n",
    "                neg += 1\n",
    "            except:\n",
    "                continue\n",
    "with open(\"hits.dat\") as f:\n",
    "    for line in f:\n",
    "        for word in utils.simple_preprocess(line):\n",
    "            try:\n",
    "                vec = model.wv[word]\n",
    "                hitx.append(vec)\n",
    "                hity.append(1.0)\n",
    "                pos += 1\n",
    "            except:\n",
    "                continue\n",
    "hitx = np.array(hitx)\n",
    "hity = np.array(hity)"
   ]
  },
  {
   "cell_type": "code",
   "execution_count": 15,
   "id": "8139ee7c",
   "metadata": {},
   "outputs": [],
   "source": [
    "initial_bias = np.log([pos/neg])\n",
    "output_bias = tf.keras.initializers.Constant(initial_bias)\n",
    "nnet = tf.keras.Sequential([\n",
    "    tf.keras.layers.Dense(100, activation='tanh'),\n",
    "    tf.keras.layers.Dropout(0.3),\n",
    "    tf.keras.layers.Dense(10, activation='relu'),\n",
    "    tf.keras.layers.Dense(1, activation='sigmoid',bias_initializer= output_bias)])\n",
    "nnet.compile(optimizer=\"adam\", loss='binary_crossentropy', metrics=['binary_accuracy'])\n",
    "\n",
    "sgd = keras.optimizers.SGD(lr=0.01, decay=1e-6, momentum=0.9, nesterov=True)\n"
   ]
  },
  {
   "cell_type": "code",
   "execution_count": 16,
   "id": "6c6a3b71",
   "metadata": {},
   "outputs": [
    {
     "name": "stdout",
     "output_type": "stream",
     "text": [
      "Epoch 1/3\n",
      "13009/13009 [==============================] - 11s 820us/step - loss: 0.4337 - binary_accuracy: 0.8021\n",
      "Epoch 2/3\n",
      "13009/13009 [==============================] - 11s 822us/step - loss: 0.4121 - binary_accuracy: 0.8152\n",
      "Epoch 3/3\n",
      "13009/13009 [==============================] - 10s 795us/step - loss: 0.4044 - binary_accuracy: 0.8194\n"
     ]
    },
    {
     "data": {
      "text/plain": [
       "<tensorflow.python.keras.callbacks.History at 0x1a5d3bccc40>"
      ]
     },
     "execution_count": 16,
     "metadata": {},
     "output_type": "execute_result"
    }
   ],
   "source": [
    "nnet.fit(\n",
    "  x=hitx,\n",
    "  y=hity,\n",
    "  shuffle=True,\n",
    "  epochs=3,\n",
    "  batch_size=16\n",
    ")"
   ]
  },
  {
   "cell_type": "code",
   "execution_count": 17,
   "id": "58c116cd",
   "metadata": {},
   "outputs": [
    {
     "data": {
      "text/plain": [
       "array([[0.79793197]], dtype=float32)"
      ]
     },
     "execution_count": 17,
     "metadata": {},
     "output_type": "execute_result"
    }
   ],
   "source": [
    "nnet.predict(np.array([model.wv['dcg']]))"
   ]
  },
  {
   "cell_type": "code",
   "execution_count": 42,
   "id": "5ccbb144",
   "metadata": {},
   "outputs": [],
   "source": [
    "class FastGetter:\n",
    "    def __init__(self, m, wv):\n",
    "        self.model = m\n",
    "        self.wv = wv\n",
    "        self.d = {}\n",
    "    def get(self, x):\n",
    "        r = self.d.get(x, 100)\n",
    "        if (r != 100):\n",
    "            return r\n",
    "        else:\n",
    "            r = self.model.predict(np.array([model.wv[x.strip()]]))\n",
    "            self.d[x] = r\n",
    "            return r\n",
    "    "
   ]
  },
  {
   "cell_type": "code",
   "execution_count": 47,
   "id": "1bf3b21e",
   "metadata": {},
   "outputs": [],
   "source": [
    "fg = FastGetter(nnet, model.wv)"
   ]
  },
  {
   "cell_type": "code",
   "execution_count": 48,
   "id": "13ffc9f0",
   "metadata": {},
   "outputs": [],
   "source": [
    "tol = 0.7\n",
    "\n",
    "with open(\"reducedretrieval.dat\", \"w\", encoding='utf-8') as out:\n",
    "    with open(\"textretrieval.txt\", encoding='utf-8') as f:\n",
    "        for line in f:\n",
    "            li = []\n",
    "            for sentence in line.split(\".\"):\n",
    "                accu = 0.0\n",
    "                cnt = 0\n",
    "                for word in utils.simple_preprocess(sentence):\n",
    "                    try:\n",
    "                        accu += fg.get(word)\n",
    "                        cnt+=1\n",
    "                    except:\n",
    "                        continue\n",
    "                try:\n",
    "                    accu /= cnt\n",
    "                    li.append((accu[0], sentence))\n",
    "#                     if (accu > tol):\n",
    "#                         print(sentence)\n",
    "#                     else:\n",
    "#                         print(\"passed\")\n",
    "                except:\n",
    "                    continue\n",
    "            li.sort(reverse=True)\n",
    "            li = [i for _, i in li]\n",
    "            out.write(\".\".join(li[:round(len(li)/2)]) + \"\\n\")"
   ]
  },
  {
   "cell_type": "code",
   "execution_count": 38,
   "id": "56c45116",
   "metadata": {},
   "outputs": [
    {
     "data": {
      "text/plain": [
       "'1.2'"
      ]
     },
     "execution_count": 38,
     "metadata": {},
     "output_type": "execute_result"
    }
   ],
   "source": [
    "li = [\"1\", \"2\",\"3\", \"4\"]\n",
    "\".\".join(li[:round(len(li)/2)])"
   ]
  }
 ],
 "metadata": {
  "kernelspec": {
   "display_name": "Python 3 (ipykernel)",
   "language": "python",
   "name": "python3"
  },
  "language_info": {
   "codemirror_mode": {
    "name": "ipython",
    "version": 3
   },
   "file_extension": ".py",
   "mimetype": "text/x-python",
   "name": "python",
   "nbconvert_exporter": "python",
   "pygments_lexer": "ipython3",
   "version": "3.8.8"
  }
 },
 "nbformat": 4,
 "nbformat_minor": 5
}
