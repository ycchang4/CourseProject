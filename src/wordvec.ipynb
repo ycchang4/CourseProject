{
 "cells": [
  {
   "cell_type": "code",
   "execution_count": 2,
   "id": "9621a7f8",
   "metadata": {},
   "outputs": [],
   "source": [
    "from gensim.test.utils import datapath\n",
    "from gensim import utils\n",
    "\n",
    "class MyCorpus:\n",
    "    \"\"\"An iterator that yields sentences (lists of str).\"\"\"\n",
    "    def __init__(self):\n",
    "        p = []\n",
    "        with open(\"phrases.txt\") as f:\n",
    "            for line in f:\n",
    "                p.append(line.split())\n",
    "        self.p = dict(p)\n",
    "    def __iter__(self):\n",
    "        corpus_path = datapath('lee_background.cor')\n",
    "        for line in open(corpus_path):\n",
    "            # assume there's one document per line, tokens separated by whitespace\n",
    "            s = utils.simple_preprocess(line)\n",
    "            i = 0\n",
    "            new_s = []\n",
    "            while i < len(s) - 1:\n",
    "                if (s[i+1] == self.p.get(s[i], False)):\n",
    "                    new_s.append(s[i] + \"_\" + s[i+1])\n",
    "                    i+=2\n",
    "                else:\n",
    "                    new_s.append(s[i])\n",
    "                    i+=1\n",
    "            yield new_s\n"
   ]
  },
  {
   "cell_type": "code",
   "execution_count": 3,
   "id": "8bf77d8d",
   "metadata": {},
   "outputs": [],
   "source": [
    "import logging\n",
    "logging.basicConfig(format='%(asctime)s : %(levelname)s : %(message)s', level=logging.INFO)"
   ]
  },
  {
   "cell_type": "code",
   "execution_count": 4,
   "id": "f75cca2b",
   "metadata": {},
   "outputs": [],
   "source": [
    "class moreCorpus:\n",
    "    def __iter__(self):\n",
    "        for line in open(\"phrased_bags.dat\"):\n",
    "            yield line.split()"
   ]
  },
  {
   "cell_type": "code",
   "execution_count": 5,
   "id": "b95b3f30",
   "metadata": {},
   "outputs": [
    {
     "name": "stderr",
     "output_type": "stream",
     "text": [
      "2021-12-04 14:37:41,404 : INFO : collecting all words and their counts\n",
      "2021-12-04 14:37:41,405 : INFO : PROGRESS: at sentence #0, processed 0 words, keeping 0 word types\n",
      "2021-12-04 14:37:41,527 : INFO : collected 6953 word types from a corpus of 57835 raw words and 300 sentences\n",
      "2021-12-04 14:37:41,527 : INFO : Creating a fresh vocabulary\n",
      "2021-12-04 14:37:41,538 : INFO : Word2Vec lifecycle event {'msg': 'effective_min_count=5 retains 1739 unique words (25.01078671077233%% of original 6953, drops 5214)', 'datetime': '2021-12-04T14:37:41.538342', 'gensim': '4.1.2', 'python': '3.6.8 (v3.6.8:3c6b436a57, Dec 24 2018, 02:04:31) \\n[GCC 4.2.1 Compatible Apple LLVM 6.0 (clang-600.0.57)]', 'platform': 'Darwin-20.2.0-x86_64-i386-64bit', 'event': 'prepare_vocab'}\n",
      "2021-12-04 14:37:41,539 : INFO : Word2Vec lifecycle event {'msg': 'effective_min_count=5 leaves 49031 word corpus (84.77738393706234%% of original 57835, drops 8804)', 'datetime': '2021-12-04T14:37:41.539081', 'gensim': '4.1.2', 'python': '3.6.8 (v3.6.8:3c6b436a57, Dec 24 2018, 02:04:31) \\n[GCC 4.2.1 Compatible Apple LLVM 6.0 (clang-600.0.57)]', 'platform': 'Darwin-20.2.0-x86_64-i386-64bit', 'event': 'prepare_vocab'}\n",
      "2021-12-04 14:37:41,552 : INFO : deleting the raw counts dictionary of 6953 items\n",
      "2021-12-04 14:37:41,554 : INFO : sample=0.001 downsamples 51 most-common words\n",
      "2021-12-04 14:37:41,554 : INFO : Word2Vec lifecycle event {'msg': 'downsampling leaves estimated 35662.53080575807 word corpus (72.7%% of prior 49031)', 'datetime': '2021-12-04T14:37:41.554858', 'gensim': '4.1.2', 'python': '3.6.8 (v3.6.8:3c6b436a57, Dec 24 2018, 02:04:31) \\n[GCC 4.2.1 Compatible Apple LLVM 6.0 (clang-600.0.57)]', 'platform': 'Darwin-20.2.0-x86_64-i386-64bit', 'event': 'prepare_vocab'}\n",
      "2021-12-04 14:37:41,576 : INFO : estimated required memory for 1739 words and 100 dimensions: 2260700 bytes\n",
      "2021-12-04 14:37:41,576 : INFO : resetting layer weights\n",
      "2021-12-04 14:37:41,578 : INFO : Word2Vec lifecycle event {'update': False, 'trim_rule': 'None', 'datetime': '2021-12-04T14:37:41.578597', 'gensim': '4.1.2', 'python': '3.6.8 (v3.6.8:3c6b436a57, Dec 24 2018, 02:04:31) \\n[GCC 4.2.1 Compatible Apple LLVM 6.0 (clang-600.0.57)]', 'platform': 'Darwin-20.2.0-x86_64-i386-64bit', 'event': 'build_vocab'}\n",
      "2021-12-04 14:37:41,579 : INFO : Word2Vec lifecycle event {'msg': 'training model with 3 workers on 1739 vocabulary and 100 features, using sg=0 hs=0 sample=0.001 negative=5 window=5 shrink_windows=True', 'datetime': '2021-12-04T14:37:41.579317', 'gensim': '4.1.2', 'python': '3.6.8 (v3.6.8:3c6b436a57, Dec 24 2018, 02:04:31) \\n[GCC 4.2.1 Compatible Apple LLVM 6.0 (clang-600.0.57)]', 'platform': 'Darwin-20.2.0-x86_64-i386-64bit', 'event': 'train'}\n",
      "2021-12-04 14:37:41,707 : INFO : worker thread finished; awaiting finish of 2 more threads\n",
      "2021-12-04 14:37:41,712 : INFO : worker thread finished; awaiting finish of 1 more threads\n",
      "2021-12-04 14:37:41,713 : INFO : worker thread finished; awaiting finish of 0 more threads\n",
      "2021-12-04 14:37:41,713 : INFO : EPOCH - 1 : training on 57835 raw words (35656 effective words) took 0.1s, 268364 effective words/s\n",
      "2021-12-04 14:37:41,837 : INFO : worker thread finished; awaiting finish of 2 more threads\n",
      "2021-12-04 14:37:41,842 : INFO : worker thread finished; awaiting finish of 1 more threads\n",
      "2021-12-04 14:37:41,843 : INFO : worker thread finished; awaiting finish of 0 more threads\n",
      "2021-12-04 14:37:41,844 : INFO : EPOCH - 2 : training on 57835 raw words (35633 effective words) took 0.1s, 277189 effective words/s\n",
      "2021-12-04 14:37:41,966 : INFO : worker thread finished; awaiting finish of 2 more threads\n",
      "2021-12-04 14:37:41,972 : INFO : worker thread finished; awaiting finish of 1 more threads\n",
      "2021-12-04 14:37:41,973 : INFO : worker thread finished; awaiting finish of 0 more threads\n",
      "2021-12-04 14:37:41,974 : INFO : EPOCH - 3 : training on 57835 raw words (35630 effective words) took 0.1s, 276907 effective words/s\n",
      "2021-12-04 14:37:42,094 : INFO : worker thread finished; awaiting finish of 2 more threads\n",
      "2021-12-04 14:37:42,099 : INFO : worker thread finished; awaiting finish of 1 more threads\n",
      "2021-12-04 14:37:42,101 : INFO : worker thread finished; awaiting finish of 0 more threads\n",
      "2021-12-04 14:37:42,101 : INFO : EPOCH - 4 : training on 57835 raw words (35694 effective words) took 0.1s, 284761 effective words/s\n",
      "2021-12-04 14:37:42,235 : INFO : worker thread finished; awaiting finish of 2 more threads\n",
      "2021-12-04 14:37:42,240 : INFO : worker thread finished; awaiting finish of 1 more threads\n",
      "2021-12-04 14:37:42,241 : INFO : worker thread finished; awaiting finish of 0 more threads\n",
      "2021-12-04 14:37:42,242 : INFO : EPOCH - 5 : training on 57835 raw words (35632 effective words) took 0.1s, 257449 effective words/s\n",
      "2021-12-04 14:37:42,242 : INFO : Word2Vec lifecycle event {'msg': 'training on 289175 raw words (178245 effective words) took 0.7s, 268894 effective words/s', 'datetime': '2021-12-04T14:37:42.242683', 'gensim': '4.1.2', 'python': '3.6.8 (v3.6.8:3c6b436a57, Dec 24 2018, 02:04:31) \\n[GCC 4.2.1 Compatible Apple LLVM 6.0 (clang-600.0.57)]', 'platform': 'Darwin-20.2.0-x86_64-i386-64bit', 'event': 'train'}\n",
      "2021-12-04 14:37:42,243 : INFO : Word2Vec lifecycle event {'params': 'Word2Vec(vocab=1739, vector_size=100, alpha=0.025)', 'datetime': '2021-12-04T14:37:42.243089', 'gensim': '4.1.2', 'python': '3.6.8 (v3.6.8:3c6b436a57, Dec 24 2018, 02:04:31) \\n[GCC 4.2.1 Compatible Apple LLVM 6.0 (clang-600.0.57)]', 'platform': 'Darwin-20.2.0-x86_64-i386-64bit', 'event': 'created'}\n"
     ]
    }
   ],
   "source": [
    "import gensim.models\n",
    "\n",
    "sentences = MyCorpus()\n",
    "model = gensim.models.Word2Vec(sentences=sentences)"
   ]
  },
  {
   "cell_type": "code",
   "execution_count": 13,
   "id": "9638d2af",
   "metadata": {},
   "outputs": [
    {
     "name": "stderr",
     "output_type": "stream",
     "text": [
      "2021-12-04 17:06:52,919 : INFO : collecting all words and their counts\n",
      "2021-12-04 17:06:52,924 : INFO : PROGRESS: at sentence #0, processed 0 words, keeping 0 word types\n",
      "2021-12-04 17:06:57,203 : INFO : collected 253854 word types from a corpus of 17005207 raw words and 1701 sentences\n",
      "2021-12-04 17:06:57,204 : INFO : Updating model with new vocabulary\n",
      "2021-12-04 17:06:57,735 : INFO : Word2Vec lifecycle event {'msg': 'added 0 new unique words (0.0%% of original 253854) and increased the count of 71290 pre-existing words (28.083071371733357%% of original 253854)', 'datetime': '2021-12-04T17:06:57.735325', 'gensim': '4.1.2', 'python': '3.6.8 (v3.6.8:3c6b436a57, Dec 24 2018, 02:04:31) \\n[GCC 4.2.1 Compatible Apple LLVM 6.0 (clang-600.0.57)]', 'platform': 'Darwin-20.2.0-x86_64-i386-64bit', 'event': 'prepare_vocab'}\n",
      "2021-12-04 17:06:58,256 : INFO : deleting the raw counts dictionary of 253854 items\n",
      "2021-12-04 17:06:58,262 : INFO : sample=0.001 downsamples 38 most-common words\n",
      "2021-12-04 17:06:58,263 : INFO : Word2Vec lifecycle event {'msg': 'downsampling leaves estimated 12506280.016269669 word corpus (74.8%% of prior 16718844)', 'datetime': '2021-12-04T17:06:58.263817', 'gensim': '4.1.2', 'python': '3.6.8 (v3.6.8:3c6b436a57, Dec 24 2018, 02:04:31) \\n[GCC 4.2.1 Compatible Apple LLVM 6.0 (clang-600.0.57)]', 'platform': 'Darwin-20.2.0-x86_64-i386-64bit', 'event': 'prepare_vocab'}\n",
      "2021-12-04 17:06:58,994 : INFO : estimated required memory for 71290 words and 100 dimensions: 92677000 bytes\n",
      "2021-12-04 17:06:58,994 : INFO : updating layer weights\n",
      "2021-12-04 17:06:59,029 : INFO : Word2Vec lifecycle event {'update': True, 'trim_rule': 'None', 'datetime': '2021-12-04T17:06:59.029316', 'gensim': '4.1.2', 'python': '3.6.8 (v3.6.8:3c6b436a57, Dec 24 2018, 02:04:31) \\n[GCC 4.2.1 Compatible Apple LLVM 6.0 (clang-600.0.57)]', 'platform': 'Darwin-20.2.0-x86_64-i386-64bit', 'event': 'build_vocab'}\n",
      "2021-12-04 17:06:59,030 : WARNING : Effective 'alpha' higher than previous training cycles\n",
      "2021-12-04 17:06:59,030 : INFO : Word2Vec lifecycle event {'msg': 'training model with 3 workers on 71784 vocabulary and 100 features, using sg=0 hs=0 sample=0.001 negative=5 window=5 shrink_windows=True', 'datetime': '2021-12-04T17:06:59.030885', 'gensim': '4.1.2', 'python': '3.6.8 (v3.6.8:3c6b436a57, Dec 24 2018, 02:04:31) \\n[GCC 4.2.1 Compatible Apple LLVM 6.0 (clang-600.0.57)]', 'platform': 'Darwin-20.2.0-x86_64-i386-64bit', 'event': 'train'}\n",
      "2021-12-04 17:07:00,034 : INFO : EPOCH 1 - PROGRESS: at 8.99% examples, 1114347 words/s, in_qsize 5, out_qsize 0\n",
      "2021-12-04 17:07:01,034 : INFO : EPOCH 1 - PROGRESS: at 19.17% examples, 1191376 words/s, in_qsize 6, out_qsize 0\n",
      "2021-12-04 17:07:02,039 : INFO : EPOCH 1 - PROGRESS: at 29.28% examples, 1217095 words/s, in_qsize 5, out_qsize 0\n",
      "2021-12-04 17:07:03,042 : INFO : EPOCH 1 - PROGRESS: at 39.86% examples, 1245913 words/s, in_qsize 5, out_qsize 0\n",
      "2021-12-04 17:07:04,044 : INFO : EPOCH 1 - PROGRESS: at 50.79% examples, 1271044 words/s, in_qsize 5, out_qsize 0\n",
      "2021-12-04 17:07:05,044 : INFO : EPOCH 1 - PROGRESS: at 61.43% examples, 1281788 words/s, in_qsize 5, out_qsize 0\n",
      "2021-12-04 17:07:06,048 : INFO : EPOCH 1 - PROGRESS: at 72.25% examples, 1291664 words/s, in_qsize 5, out_qsize 0\n",
      "2021-12-04 17:07:07,049 : INFO : EPOCH 1 - PROGRESS: at 82.77% examples, 1292164 words/s, in_qsize 5, out_qsize 0\n",
      "2021-12-04 17:07:08,054 : INFO : EPOCH 1 - PROGRESS: at 93.18% examples, 1292436 words/s, in_qsize 5, out_qsize 0\n",
      "2021-12-04 17:07:08,690 : INFO : worker thread finished; awaiting finish of 2 more threads\n",
      "2021-12-04 17:07:08,694 : INFO : worker thread finished; awaiting finish of 1 more threads\n",
      "2021-12-04 17:07:08,698 : INFO : worker thread finished; awaiting finish of 0 more threads\n",
      "2021-12-04 17:07:08,698 : INFO : EPOCH - 1 : training on 17005207 raw words (12505960 effective words) took 9.7s, 1293850 effective words/s\n",
      "2021-12-04 17:07:09,700 : INFO : EPOCH 2 - PROGRESS: at 10.64% examples, 1320987 words/s, in_qsize 5, out_qsize 0\n",
      "2021-12-04 17:07:10,702 : INFO : EPOCH 2 - PROGRESS: at 20.87% examples, 1298077 words/s, in_qsize 5, out_qsize 0\n",
      "2021-12-04 17:07:11,704 : INFO : EPOCH 2 - PROGRESS: at 30.28% examples, 1261090 words/s, in_qsize 5, out_qsize 0\n",
      "2021-12-04 17:07:12,710 : INFO : EPOCH 2 - PROGRESS: at 39.21% examples, 1225737 words/s, in_qsize 5, out_qsize 0\n",
      "2021-12-04 17:07:13,712 : INFO : EPOCH 2 - PROGRESS: at 47.91% examples, 1198662 words/s, in_qsize 5, out_qsize 0\n",
      "2021-12-04 17:07:14,728 : INFO : EPOCH 2 - PROGRESS: at 55.97% examples, 1164780 words/s, in_qsize 5, out_qsize 0\n",
      "2021-12-04 17:07:15,730 : INFO : EPOCH 2 - PROGRESS: at 63.96% examples, 1141324 words/s, in_qsize 5, out_qsize 0\n",
      "2021-12-04 17:07:16,732 : INFO : EPOCH 2 - PROGRESS: at 71.72% examples, 1120043 words/s, in_qsize 5, out_qsize 0\n",
      "2021-12-04 17:07:17,736 : INFO : EPOCH 2 - PROGRESS: at 79.48% examples, 1101189 words/s, in_qsize 6, out_qsize 1\n",
      "2021-12-04 17:07:18,738 : INFO : EPOCH 2 - PROGRESS: at 86.95% examples, 1084021 words/s, in_qsize 5, out_qsize 0\n",
      "2021-12-04 17:07:19,742 : INFO : EPOCH 2 - PROGRESS: at 94.42% examples, 1069843 words/s, in_qsize 5, out_qsize 0\n",
      "2021-12-04 17:07:20,488 : INFO : worker thread finished; awaiting finish of 2 more threads\n",
      "2021-12-04 17:07:20,492 : INFO : worker thread finished; awaiting finish of 1 more threads\n",
      "2021-12-04 17:07:20,498 : INFO : worker thread finished; awaiting finish of 0 more threads\n",
      "2021-12-04 17:07:20,499 : INFO : EPOCH - 2 : training on 17005207 raw words (12506613 effective words) took 11.8s, 1060028 effective words/s\n",
      "2021-12-04 17:07:21,505 : INFO : EPOCH 3 - PROGRESS: at 6.94% examples, 857299 words/s, in_qsize 5, out_qsize 0\n",
      "2021-12-04 17:07:22,509 : INFO : EPOCH 3 - PROGRESS: at 13.82% examples, 855648 words/s, in_qsize 5, out_qsize 0\n",
      "2021-12-04 17:07:23,510 : INFO : EPOCH 3 - PROGRESS: at 20.52% examples, 848811 words/s, in_qsize 5, out_qsize 0\n",
      "2021-12-04 17:07:24,512 : INFO : EPOCH 3 - PROGRESS: at 26.93% examples, 838534 words/s, in_qsize 5, out_qsize 0\n",
      "2021-12-04 17:07:25,517 : INFO : EPOCH 3 - PROGRESS: at 33.27% examples, 830877 words/s, in_qsize 5, out_qsize 0\n",
      "2021-12-04 17:07:26,524 : INFO : EPOCH 3 - PROGRESS: at 39.04% examples, 812266 words/s, in_qsize 5, out_qsize 0\n",
      "2021-12-04 17:07:27,531 : INFO : EPOCH 3 - PROGRESS: at 44.80% examples, 798850 words/s, in_qsize 5, out_qsize 0\n",
      "2021-12-04 17:07:28,535 : INFO : EPOCH 3 - PROGRESS: at 50.50% examples, 788232 words/s, in_qsize 6, out_qsize 0\n",
      "2021-12-04 17:07:29,545 : INFO : EPOCH 3 - PROGRESS: at 55.61% examples, 771329 words/s, in_qsize 6, out_qsize 1\n",
      "2021-12-04 17:07:30,548 : INFO : EPOCH 3 - PROGRESS: at 60.79% examples, 758861 words/s, in_qsize 6, out_qsize 0\n",
      "2021-12-04 17:07:31,575 : INFO : EPOCH 3 - PROGRESS: at 65.84% examples, 745569 words/s, in_qsize 6, out_qsize 0\n",
      "2021-12-04 17:07:32,604 : INFO : EPOCH 3 - PROGRESS: at 70.96% examples, 735309 words/s, in_qsize 4, out_qsize 1\n",
      "2021-12-04 17:07:33,612 : INFO : EPOCH 3 - PROGRESS: at 75.60% examples, 722480 words/s, in_qsize 5, out_qsize 0\n",
      "2021-12-04 17:07:34,615 : INFO : EPOCH 3 - PROGRESS: at 79.25% examples, 702787 words/s, in_qsize 5, out_qsize 1\n",
      "2021-12-04 17:07:35,618 : INFO : EPOCH 3 - PROGRESS: at 82.66% examples, 684217 words/s, in_qsize 5, out_qsize 0\n",
      "2021-12-04 17:07:36,623 : INFO : EPOCH 3 - PROGRESS: at 86.36% examples, 670361 words/s, in_qsize 5, out_qsize 0\n",
      "2021-12-04 17:07:37,634 : INFO : EPOCH 3 - PROGRESS: at 89.89% examples, 656673 words/s, in_qsize 6, out_qsize 1\n",
      "2021-12-04 17:07:38,669 : INFO : EPOCH 3 - PROGRESS: at 93.65% examples, 644853 words/s, in_qsize 4, out_qsize 1\n",
      "2021-12-04 17:07:39,670 : INFO : EPOCH 3 - PROGRESS: at 96.47% examples, 629590 words/s, in_qsize 5, out_qsize 0\n",
      "2021-12-04 17:07:40,681 : INFO : EPOCH 3 - PROGRESS: at 99.59% examples, 617282 words/s, in_qsize 4, out_qsize 1\n",
      "2021-12-04 17:07:40,765 : INFO : worker thread finished; awaiting finish of 2 more threads\n",
      "2021-12-04 17:07:40,791 : INFO : worker thread finished; awaiting finish of 1 more threads\n",
      "2021-12-04 17:07:40,799 : INFO : worker thread finished; awaiting finish of 0 more threads\n",
      "2021-12-04 17:07:40,801 : INFO : EPOCH - 3 : training on 17005207 raw words (12505563 effective words) took 20.3s, 616042 effective words/s\n",
      "2021-12-04 17:07:41,823 : INFO : EPOCH 4 - PROGRESS: at 2.70% examples, 338235 words/s, in_qsize 5, out_qsize 0\n",
      "2021-12-04 17:07:42,850 : INFO : EPOCH 4 - PROGRESS: at 5.29% examples, 324945 words/s, in_qsize 5, out_qsize 0\n",
      "2021-12-04 17:07:43,891 : INFO : EPOCH 4 - PROGRESS: at 7.70% examples, 310746 words/s, in_qsize 5, out_qsize 0\n",
      "2021-12-04 17:07:44,930 : INFO : EPOCH 4 - PROGRESS: at 9.58% examples, 289176 words/s, in_qsize 6, out_qsize 1\n",
      "2021-12-04 17:07:45,969 : INFO : EPOCH 4 - PROGRESS: at 11.46% examples, 276021 words/s, in_qsize 5, out_qsize 0\n",
      "2021-12-04 17:07:46,973 : INFO : EPOCH 4 - PROGRESS: at 13.35% examples, 269333 words/s, in_qsize 5, out_qsize 0\n",
      "2021-12-04 17:07:47,998 : INFO : EPOCH 4 - PROGRESS: at 15.17% examples, 262424 words/s, in_qsize 5, out_qsize 0\n",
      "2021-12-04 17:07:49,034 : INFO : EPOCH 4 - PROGRESS: at 16.52% examples, 249933 words/s, in_qsize 5, out_qsize 0\n",
      "2021-12-04 17:07:50,108 : INFO : EPOCH 4 - PROGRESS: at 17.70% examples, 236983 words/s, in_qsize 4, out_qsize 1\n",
      "2021-12-04 17:07:51,243 : INFO : EPOCH 4 - PROGRESS: at 18.99% examples, 226638 words/s, in_qsize 5, out_qsize 1\n",
      "2021-12-04 17:07:52,326 : INFO : EPOCH 4 - PROGRESS: at 20.34% examples, 219943 words/s, in_qsize 5, out_qsize 0\n",
      "2021-12-04 17:07:53,331 : INFO : EPOCH 4 - PROGRESS: at 20.99% examples, 208821 words/s, in_qsize 6, out_qsize 0\n",
      "2021-12-04 17:07:54,417 : INFO : EPOCH 4 - PROGRESS: at 21.81% examples, 199763 words/s, in_qsize 5, out_qsize 0\n",
      "2021-12-04 17:07:55,418 : INFO : EPOCH 4 - PROGRESS: at 22.52% examples, 192090 words/s, in_qsize 5, out_qsize 0\n",
      "2021-12-04 17:07:56,453 : INFO : EPOCH 4 - PROGRESS: at 23.16% examples, 184700 words/s, in_qsize 5, out_qsize 0\n",
      "2021-12-04 17:07:57,537 : INFO : EPOCH 4 - PROGRESS: at 23.81% examples, 177711 words/s, in_qsize 6, out_qsize 0\n",
      "2021-12-04 17:07:58,556 : INFO : EPOCH 4 - PROGRESS: at 24.51% examples, 172453 words/s, in_qsize 4, out_qsize 1\n",
      "2021-12-04 17:07:59,608 : INFO : EPOCH 4 - PROGRESS: at 25.34% examples, 168258 words/s, in_qsize 5, out_qsize 0\n",
      "2021-12-04 17:08:00,642 : INFO : EPOCH 4 - PROGRESS: at 26.10% examples, 164413 words/s, in_qsize 5, out_qsize 0\n",
      "2021-12-04 17:08:01,761 : INFO : EPOCH 4 - PROGRESS: at 26.75% examples, 159521 words/s, in_qsize 5, out_qsize 0\n",
      "2021-12-04 17:08:02,781 : INFO : EPOCH 4 - PROGRESS: at 27.45% examples, 156164 words/s, in_qsize 5, out_qsize 0\n",
      "2021-12-04 17:08:03,815 : INFO : EPOCH 4 - PROGRESS: at 28.28% examples, 153693 words/s, in_qsize 6, out_qsize 0\n",
      "2021-12-04 17:08:04,902 : INFO : EPOCH 4 - PROGRESS: at 29.10% examples, 151067 words/s, in_qsize 5, out_qsize 0\n",
      "2021-12-04 17:08:05,952 : INFO : EPOCH 4 - PROGRESS: at 29.98% examples, 149245 words/s, in_qsize 5, out_qsize 0\n",
      "2021-12-04 17:08:07,020 : INFO : EPOCH 4 - PROGRESS: at 30.63% examples, 146276 words/s, in_qsize 6, out_qsize 0\n",
      "2021-12-04 17:08:08,038 : INFO : EPOCH 4 - PROGRESS: at 31.33% examples, 144094 words/s, in_qsize 5, out_qsize 0\n",
      "2021-12-04 17:08:09,111 : INFO : EPOCH 4 - PROGRESS: at 32.10% examples, 142037 words/s, in_qsize 5, out_qsize 0\n",
      "2021-12-04 17:08:10,113 : INFO : EPOCH 4 - PROGRESS: at 32.98% examples, 141010 words/s, in_qsize 5, out_qsize 0\n",
      "2021-12-04 17:08:11,163 : INFO : EPOCH 4 - PROGRESS: at 33.92% examples, 140055 words/s, in_qsize 5, out_qsize 0\n",
      "2021-12-04 17:08:12,184 : INFO : EPOCH 4 - PROGRESS: at 35.04% examples, 140000 words/s, in_qsize 5, out_qsize 0\n",
      "2021-12-04 17:08:13,216 : INFO : EPOCH 4 - PROGRESS: at 36.16% examples, 139923 words/s, in_qsize 5, out_qsize 0\n",
      "2021-12-04 17:08:14,219 : INFO : EPOCH 4 - PROGRESS: at 37.51% examples, 140757 words/s, in_qsize 5, out_qsize 0\n",
      "2021-12-04 17:08:15,228 : INFO : EPOCH 4 - PROGRESS: at 39.45% examples, 143706 words/s, in_qsize 5, out_qsize 0\n",
      "2021-12-04 17:08:16,263 : INFO : EPOCH 4 - PROGRESS: at 41.68% examples, 147395 words/s, in_qsize 4, out_qsize 1\n",
      "2021-12-04 17:08:17,305 : INFO : EPOCH 4 - PROGRESS: at 43.80% examples, 150465 words/s, in_qsize 6, out_qsize 2\n",
      "2021-12-04 17:08:18,306 : INFO : EPOCH 4 - PROGRESS: at 46.27% examples, 154740 words/s, in_qsize 5, out_qsize 0\n",
      "2021-12-04 17:08:19,339 : INFO : EPOCH 4 - PROGRESS: at 48.91% examples, 159216 words/s, in_qsize 6, out_qsize 1\n",
      "2021-12-04 17:08:20,343 : INFO : EPOCH 4 - PROGRESS: at 51.62% examples, 163745 words/s, in_qsize 5, out_qsize 0\n",
      "2021-12-04 17:08:21,346 : INFO : EPOCH 4 - PROGRESS: at 54.26% examples, 167934 words/s, in_qsize 6, out_qsize 0\n",
      "2021-12-04 17:08:22,380 : INFO : EPOCH 4 - PROGRESS: at 57.14% examples, 172442 words/s, in_qsize 5, out_qsize 0\n",
      "2021-12-04 17:08:23,399 : INFO : EPOCH 4 - PROGRESS: at 60.32% examples, 177675 words/s, in_qsize 5, out_qsize 0\n",
      "2021-12-04 17:08:24,422 : INFO : EPOCH 4 - PROGRESS: at 63.55% examples, 182809 words/s, in_qsize 6, out_qsize 0\n",
      "2021-12-04 17:08:25,431 : INFO : EPOCH 4 - PROGRESS: at 67.02% examples, 188392 words/s, in_qsize 6, out_qsize 0\n",
      "2021-12-04 17:08:26,455 : INFO : EPOCH 4 - PROGRESS: at 70.02% examples, 192401 words/s, in_qsize 5, out_qsize 0\n",
      "2021-12-04 17:08:27,458 : INFO : EPOCH 4 - PROGRESS: at 73.54% examples, 197802 words/s, in_qsize 4, out_qsize 1\n",
      "2021-12-04 17:08:28,459 : INFO : EPOCH 4 - PROGRESS: at 77.13% examples, 202734 words/s, in_qsize 6, out_qsize 0\n",
      "2021-12-04 17:08:29,511 : INFO : EPOCH 4 - PROGRESS: at 80.60% examples, 207199 words/s, in_qsize 3, out_qsize 2\n",
      "2021-12-04 17:08:30,535 : INFO : EPOCH 4 - PROGRESS: at 83.77% examples, 210913 words/s, in_qsize 3, out_qsize 2\n",
      "2021-12-04 17:08:31,537 : INFO : EPOCH 4 - PROGRESS: at 87.89% examples, 216855 words/s, in_qsize 6, out_qsize 0\n",
      "2021-12-04 17:08:32,551 : INFO : EPOCH 4 - PROGRESS: at 92.12% examples, 222819 words/s, in_qsize 6, out_qsize 0\n",
      "2021-12-04 17:08:33,565 : INFO : EPOCH 4 - PROGRESS: at 96.59% examples, 229092 words/s, in_qsize 5, out_qsize 0\n",
      "2021-12-04 17:08:34,347 : INFO : worker thread finished; awaiting finish of 2 more threads\n",
      "2021-12-04 17:08:34,358 : INFO : worker thread finished; awaiting finish of 1 more threads\n",
      "2021-12-04 17:08:34,360 : INFO : worker thread finished; awaiting finish of 0 more threads\n",
      "2021-12-04 17:08:34,361 : INFO : EPOCH - 4 : training on 17005207 raw words (12506696 effective words) took 53.5s, 233574 effective words/s\n",
      "2021-12-04 17:08:35,384 : INFO : EPOCH 5 - PROGRESS: at 4.76% examples, 593794 words/s, in_qsize 5, out_qsize 0\n",
      "2021-12-04 17:08:36,400 : INFO : EPOCH 5 - PROGRESS: at 8.88% examples, 545710 words/s, in_qsize 5, out_qsize 0\n",
      "2021-12-04 17:08:37,402 : INFO : EPOCH 5 - PROGRESS: at 12.87% examples, 529408 words/s, in_qsize 6, out_qsize 2\n",
      "2021-12-04 17:08:38,412 : INFO : EPOCH 5 - PROGRESS: at 17.23% examples, 531688 words/s, in_qsize 6, out_qsize 0\n",
      "2021-12-04 17:08:39,416 : INFO : EPOCH 5 - PROGRESS: at 22.40% examples, 554161 words/s, in_qsize 5, out_qsize 0\n",
      "2021-12-04 17:08:40,421 : INFO : EPOCH 5 - PROGRESS: at 27.69% examples, 572901 words/s, in_qsize 5, out_qsize 0\n",
      "2021-12-04 17:08:41,422 : INFO : EPOCH 5 - PROGRESS: at 32.80% examples, 583488 words/s, in_qsize 5, out_qsize 0\n",
      "2021-12-04 17:08:42,424 : INFO : EPOCH 5 - PROGRESS: at 38.04% examples, 592828 words/s, in_qsize 5, out_qsize 0\n",
      "2021-12-04 17:08:43,426 : INFO : EPOCH 5 - PROGRESS: at 43.56% examples, 603571 words/s, in_qsize 5, out_qsize 0\n",
      "2021-12-04 17:08:44,440 : INFO : EPOCH 5 - PROGRESS: at 49.03% examples, 611155 words/s, in_qsize 5, out_qsize 0\n",
      "2021-12-04 17:08:45,448 : INFO : EPOCH 5 - PROGRESS: at 54.38% examples, 616350 words/s, in_qsize 5, out_qsize 0\n",
      "2021-12-04 17:08:46,460 : INFO : EPOCH 5 - PROGRESS: at 59.61% examples, 619008 words/s, in_qsize 5, out_qsize 0\n",
      "2021-12-04 17:08:47,461 : INFO : EPOCH 5 - PROGRESS: at 65.02% examples, 623374 words/s, in_qsize 5, out_qsize 0\n",
      "2021-12-04 17:08:48,465 : INFO : EPOCH 5 - PROGRESS: at 70.78% examples, 630312 words/s, in_qsize 5, out_qsize 0\n",
      "2021-12-04 17:08:49,467 : INFO : EPOCH 5 - PROGRESS: at 76.66% examples, 636449 words/s, in_qsize 5, out_qsize 0\n",
      "2021-12-04 17:08:50,476 : INFO : EPOCH 5 - PROGRESS: at 82.36% examples, 640492 words/s, in_qsize 5, out_qsize 0\n",
      "2021-12-04 17:08:51,478 : INFO : EPOCH 5 - PROGRESS: at 88.24% examples, 645965 words/s, in_qsize 5, out_qsize 0\n",
      "2021-12-04 17:08:52,480 : INFO : EPOCH 5 - PROGRESS: at 94.18% examples, 651090 words/s, in_qsize 5, out_qsize 0\n",
      "2021-12-04 17:08:53,398 : INFO : worker thread finished; awaiting finish of 2 more threads\n",
      "2021-12-04 17:08:53,406 : INFO : worker thread finished; awaiting finish of 1 more threads\n",
      "2021-12-04 17:08:53,407 : INFO : worker thread finished; awaiting finish of 0 more threads\n",
      "2021-12-04 17:08:53,408 : INFO : EPOCH - 5 : training on 17005207 raw words (12506073 effective words) took 19.0s, 657290 effective words/s\n",
      "2021-12-04 17:08:53,409 : INFO : Word2Vec lifecycle event {'msg': 'training on 85026035 raw words (62530905 effective words) took 114.4s, 546710 effective words/s', 'datetime': '2021-12-04T17:08:53.409661', 'gensim': '4.1.2', 'python': '3.6.8 (v3.6.8:3c6b436a57, Dec 24 2018, 02:04:31) \\n[GCC 4.2.1 Compatible Apple LLVM 6.0 (clang-600.0.57)]', 'platform': 'Darwin-20.2.0-x86_64-i386-64bit', 'event': 'train'}\n",
      "2021-12-04 17:08:53,411 : INFO : collecting all words and their counts\n",
      "2021-12-04 17:08:53,415 : INFO : PROGRESS: at sentence #0, processed 0 words, keeping 0 word types\n",
      "2021-12-04 17:08:53,506 : INFO : collected 12250 word types from a corpus of 216470 raw words and 160 sentences\n",
      "2021-12-04 17:08:53,507 : INFO : Updating model with new vocabulary\n",
      "2021-12-04 17:08:54,191 : INFO : Word2Vec lifecycle event {'msg': 'added 0 new unique words (0.0%% of original 12250) and increased the count of 4135 pre-existing words (33.755102040816325%% of original 12250)', 'datetime': '2021-12-04T17:08:54.191271', 'gensim': '4.1.2', 'python': '3.6.8 (v3.6.8:3c6b436a57, Dec 24 2018, 02:04:31) \\n[GCC 4.2.1 Compatible Apple LLVM 6.0 (clang-600.0.57)]', 'platform': 'Darwin-20.2.0-x86_64-i386-64bit', 'event': 'prepare_vocab'}\n",
      "2021-12-04 17:08:54,252 : INFO : deleting the raw counts dictionary of 12250 items\n",
      "2021-12-04 17:08:54,254 : INFO : sample=0.001 downsamples 56 most-common words\n",
      "2021-12-04 17:08:54,255 : INFO : Word2Vec lifecycle event {'msg': 'downsampling leaves estimated 180867.804292789 word corpus (89.1%% of prior 202962)', 'datetime': '2021-12-04T17:08:54.255352', 'gensim': '4.1.2', 'python': '3.6.8 (v3.6.8:3c6b436a57, Dec 24 2018, 02:04:31) \\n[GCC 4.2.1 Compatible Apple LLVM 6.0 (clang-600.0.57)]', 'platform': 'Darwin-20.2.0-x86_64-i386-64bit', 'event': 'prepare_vocab'}\n",
      "2021-12-04 17:08:55,635 : INFO : estimated required memory for 4135 words and 100 dimensions: 5375500 bytes\n",
      "2021-12-04 17:08:55,636 : INFO : updating layer weights\n",
      "2021-12-04 17:08:55,663 : INFO : Word2Vec lifecycle event {'update': True, 'trim_rule': 'None', 'datetime': '2021-12-04T17:08:55.663612', 'gensim': '4.1.2', 'python': '3.6.8 (v3.6.8:3c6b436a57, Dec 24 2018, 02:04:31) \\n[GCC 4.2.1 Compatible Apple LLVM 6.0 (clang-600.0.57)]', 'platform': 'Darwin-20.2.0-x86_64-i386-64bit', 'event': 'build_vocab'}\n",
      "2021-12-04 17:08:55,664 : WARNING : Effective 'alpha' higher than previous training cycles\n",
      "2021-12-04 17:08:55,665 : INFO : Word2Vec lifecycle event {'msg': 'training model with 3 workers on 71784 vocabulary and 100 features, using sg=0 hs=0 sample=0.001 negative=5 window=5 shrink_windows=True', 'datetime': '2021-12-04T17:08:55.665541', 'gensim': '4.1.2', 'python': '3.6.8 (v3.6.8:3c6b436a57, Dec 24 2018, 02:04:31) \\n[GCC 4.2.1 Compatible Apple LLVM 6.0 (clang-600.0.57)]', 'platform': 'Darwin-20.2.0-x86_64-i386-64bit', 'event': 'train'}\n",
      "2021-12-04 17:08:55,875 : INFO : worker thread finished; awaiting finish of 2 more threads\n",
      "2021-12-04 17:08:55,880 : INFO : worker thread finished; awaiting finish of 1 more threads\n",
      "2021-12-04 17:08:55,899 : INFO : worker thread finished; awaiting finish of 0 more threads\n",
      "2021-12-04 17:08:55,900 : INFO : EPOCH - 1 : training on 216470 raw words (176082 effective words) took 0.2s, 761268 effective words/s\n",
      "2021-12-04 17:08:56,110 : INFO : worker thread finished; awaiting finish of 2 more threads\n",
      "2021-12-04 17:08:56,114 : INFO : worker thread finished; awaiting finish of 1 more threads\n",
      "2021-12-04 17:08:56,135 : INFO : worker thread finished; awaiting finish of 0 more threads\n",
      "2021-12-04 17:08:56,136 : INFO : EPOCH - 2 : training on 216470 raw words (175942 effective words) took 0.2s, 753641 effective words/s\n",
      "2021-12-04 17:08:56,345 : INFO : worker thread finished; awaiting finish of 2 more threads\n",
      "2021-12-04 17:08:56,348 : INFO : worker thread finished; awaiting finish of 1 more threads\n",
      "2021-12-04 17:08:56,371 : INFO : worker thread finished; awaiting finish of 0 more threads\n",
      "2021-12-04 17:08:56,372 : INFO : EPOCH - 3 : training on 216470 raw words (175960 effective words) took 0.2s, 755334 effective words/s\n",
      "2021-12-04 17:08:56,583 : INFO : worker thread finished; awaiting finish of 2 more threads\n",
      "2021-12-04 17:08:56,587 : INFO : worker thread finished; awaiting finish of 1 more threads\n",
      "2021-12-04 17:08:56,608 : INFO : worker thread finished; awaiting finish of 0 more threads\n",
      "2021-12-04 17:08:56,609 : INFO : EPOCH - 4 : training on 216470 raw words (175958 effective words) took 0.2s, 749011 effective words/s\n",
      "2021-12-04 17:08:56,814 : INFO : worker thread finished; awaiting finish of 2 more threads\n",
      "2021-12-04 17:08:56,820 : INFO : worker thread finished; awaiting finish of 1 more threads\n",
      "2021-12-04 17:08:56,839 : INFO : worker thread finished; awaiting finish of 0 more threads\n",
      "2021-12-04 17:08:56,839 : INFO : EPOCH - 5 : training on 216470 raw words (176027 effective words) took 0.2s, 774902 effective words/s\n",
      "2021-12-04 17:08:56,840 : INFO : Word2Vec lifecycle event {'msg': 'training on 1082350 raw words (879969 effective words) took 1.2s, 749384 effective words/s', 'datetime': '2021-12-04T17:08:56.840859', 'gensim': '4.1.2', 'python': '3.6.8 (v3.6.8:3c6b436a57, Dec 24 2018, 02:04:31) \\n[GCC 4.2.1 Compatible Apple LLVM 6.0 (clang-600.0.57)]', 'platform': 'Darwin-20.2.0-x86_64-i386-64bit', 'event': 'train'}\n"
     ]
    },
    {
     "data": {
      "text/plain": [
       "(879969, 1082350)"
      ]
     },
     "execution_count": 13,
     "metadata": {},
     "output_type": "execute_result"
    }
   ],
   "source": [
    "text8 = gensim.models.word2vec.Text8Corpus(\"text8\")\n",
    "model.build_vocab(text8, update=True)\n",
    "model.train(text8, total_examples=model.corpus_count, epochs=model.epochs)\n",
    "more_sentences = moreCorpus()\n",
    "model.build_vocab(more_sentences, update=True)\n",
    "model.train(more_sentences, total_examples=model.corpus_count, epochs=model.epochs)"
   ]
  },
  {
   "cell_type": "code",
   "execution_count": 12,
   "id": "aae9d97e",
   "metadata": {},
   "outputs": [
    {
     "data": {
      "text/plain": [
       "array([-0.5443577 , -1.8677766 ,  0.6969574 , -0.7649274 ,  0.4136052 ,\n",
       "        0.95004326,  1.4783763 , -0.44680443,  0.5444725 ,  1.1497146 ,\n",
       "       -2.756879  , -1.2932364 ,  1.0540298 ,  0.04450639, -2.3502295 ,\n",
       "        0.43234324,  1.4133047 ,  0.7529522 , -1.7938697 ,  0.7479326 ,\n",
       "        0.98470724,  0.41273305, -1.0099581 ,  0.45519257, -1.4839329 ,\n",
       "        2.0943274 , -0.46799213, -1.3057925 , -1.562512  , -0.23459376,\n",
       "        0.3445955 , -1.93649   , -1.0005608 , -0.15533416, -1.0690696 ,\n",
       "        3.6427383 , -0.9240831 , -1.2301477 , -1.866946  , -1.069647  ,\n",
       "       -0.55926585, -0.30832335,  0.8833607 , -1.8611103 ,  0.44886217,\n",
       "        0.75281125, -1.1127822 , -1.5394735 ,  0.18234703, -0.89218485,\n",
       "        2.6705978 , -0.98842096, -2.1195145 ,  2.9772646 , -2.3291984 ,\n",
       "        0.04284742,  1.5605425 ,  0.21591453, -1.2733151 ,  0.21606953,\n",
       "       -1.1090584 ,  1.7248476 , -1.8718649 , -1.1038254 , -0.37583908,\n",
       "        0.38263977, -2.3194928 , -1.5594994 ,  0.10595816,  0.27934527,\n",
       "       -0.95608413,  1.0677195 ,  0.17905085,  1.1597335 ,  0.500681  ,\n",
       "       -0.5535348 ,  1.0073141 ,  0.5033654 , -1.1940502 , -0.13467741,\n",
       "        0.93926084, -1.4526101 , -1.3276774 ,  1.897223  , -0.02063618,\n",
       "       -0.19784859, -3.0299554 ,  0.861227  ,  0.64120555, -0.52508616,\n",
       "       -1.4983721 , -0.23308782,  2.2873027 ,  1.2771415 ,  0.8340255 ,\n",
       "        4.38278   , -0.00491076, -1.1049277 , -2.0673525 ,  0.35171643],\n",
       "      dtype=float32)"
      ]
     },
     "execution_count": 12,
     "metadata": {},
     "output_type": "execute_result"
    }
   ],
   "source": [
    "model.wv.most_similar('vector_space')\n",
    "model.wv['vector']"
   ]
  },
  {
   "cell_type": "code",
   "execution_count": 10,
   "id": "e40e7529",
   "metadata": {},
   "outputs": [
    {
     "ename": "KeyError",
     "evalue": "\"Key 'next_lecture' not present\"",
     "output_type": "error",
     "traceback": [
      "\u001b[0;31m---------------------------------------------------------------------------\u001b[0m",
      "\u001b[0;31mKeyError\u001b[0m                                  Traceback (most recent call last)",
      "\u001b[0;32m<ipython-input-10-d3bc3acd7638>\u001b[0m in \u001b[0;36m<module>\u001b[0;34m\u001b[0m\n\u001b[0;32m----> 1\u001b[0;31m \u001b[0mmodel\u001b[0m\u001b[0;34m.\u001b[0m\u001b[0mwv\u001b[0m\u001b[0;34m.\u001b[0m\u001b[0msimilarity\u001b[0m\u001b[0;34m(\u001b[0m\u001b[0;34m\"vector_space\"\u001b[0m\u001b[0;34m,\u001b[0m \u001b[0;34m\"next_lecture\"\u001b[0m\u001b[0;34m)\u001b[0m\u001b[0;34m\u001b[0m\u001b[0;34m\u001b[0m\u001b[0m\n\u001b[0m",
      "\u001b[0;32m/Library/Frameworks/Python.framework/Versions/3.6/lib/python3.6/site-packages/gensim/models/keyedvectors.py\u001b[0m in \u001b[0;36msimilarity\u001b[0;34m(self, w1, w2)\u001b[0m\n\u001b[1;32m   1152\u001b[0m \u001b[0;34m\u001b[0m\u001b[0m\n\u001b[1;32m   1153\u001b[0m         \"\"\"\n\u001b[0;32m-> 1154\u001b[0;31m         \u001b[0;32mreturn\u001b[0m \u001b[0mdot\u001b[0m\u001b[0;34m(\u001b[0m\u001b[0mmatutils\u001b[0m\u001b[0;34m.\u001b[0m\u001b[0munitvec\u001b[0m\u001b[0;34m(\u001b[0m\u001b[0mself\u001b[0m\u001b[0;34m[\u001b[0m\u001b[0mw1\u001b[0m\u001b[0;34m]\u001b[0m\u001b[0;34m)\u001b[0m\u001b[0;34m,\u001b[0m \u001b[0mmatutils\u001b[0m\u001b[0;34m.\u001b[0m\u001b[0munitvec\u001b[0m\u001b[0;34m(\u001b[0m\u001b[0mself\u001b[0m\u001b[0;34m[\u001b[0m\u001b[0mw2\u001b[0m\u001b[0;34m]\u001b[0m\u001b[0;34m)\u001b[0m\u001b[0;34m)\u001b[0m\u001b[0;34m\u001b[0m\u001b[0;34m\u001b[0m\u001b[0m\n\u001b[0m\u001b[1;32m   1155\u001b[0m \u001b[0;34m\u001b[0m\u001b[0m\n\u001b[1;32m   1156\u001b[0m     \u001b[0;32mdef\u001b[0m \u001b[0mn_similarity\u001b[0m\u001b[0;34m(\u001b[0m\u001b[0mself\u001b[0m\u001b[0;34m,\u001b[0m \u001b[0mws1\u001b[0m\u001b[0;34m,\u001b[0m \u001b[0mws2\u001b[0m\u001b[0;34m)\u001b[0m\u001b[0;34m:\u001b[0m\u001b[0;34m\u001b[0m\u001b[0;34m\u001b[0m\u001b[0m\n",
      "\u001b[0;32m/Library/Frameworks/Python.framework/Versions/3.6/lib/python3.6/site-packages/gensim/models/keyedvectors.py\u001b[0m in \u001b[0;36m__getitem__\u001b[0;34m(self, key_or_keys)\u001b[0m\n\u001b[1;32m    393\u001b[0m         \"\"\"\n\u001b[1;32m    394\u001b[0m         \u001b[0;32mif\u001b[0m \u001b[0misinstance\u001b[0m\u001b[0;34m(\u001b[0m\u001b[0mkey_or_keys\u001b[0m\u001b[0;34m,\u001b[0m \u001b[0m_KEY_TYPES\u001b[0m\u001b[0;34m)\u001b[0m\u001b[0;34m:\u001b[0m\u001b[0;34m\u001b[0m\u001b[0;34m\u001b[0m\u001b[0m\n\u001b[0;32m--> 395\u001b[0;31m             \u001b[0;32mreturn\u001b[0m \u001b[0mself\u001b[0m\u001b[0;34m.\u001b[0m\u001b[0mget_vector\u001b[0m\u001b[0;34m(\u001b[0m\u001b[0mkey_or_keys\u001b[0m\u001b[0;34m)\u001b[0m\u001b[0;34m\u001b[0m\u001b[0;34m\u001b[0m\u001b[0m\n\u001b[0m\u001b[1;32m    396\u001b[0m \u001b[0;34m\u001b[0m\u001b[0m\n\u001b[1;32m    397\u001b[0m         \u001b[0;32mreturn\u001b[0m \u001b[0mvstack\u001b[0m\u001b[0;34m(\u001b[0m\u001b[0;34m[\u001b[0m\u001b[0mself\u001b[0m\u001b[0;34m.\u001b[0m\u001b[0mget_vector\u001b[0m\u001b[0;34m(\u001b[0m\u001b[0mkey\u001b[0m\u001b[0;34m)\u001b[0m \u001b[0;32mfor\u001b[0m \u001b[0mkey\u001b[0m \u001b[0;32min\u001b[0m \u001b[0mkey_or_keys\u001b[0m\u001b[0;34m]\u001b[0m\u001b[0;34m)\u001b[0m\u001b[0;34m\u001b[0m\u001b[0;34m\u001b[0m\u001b[0m\n",
      "\u001b[0;32m/Library/Frameworks/Python.framework/Versions/3.6/lib/python3.6/site-packages/gensim/models/keyedvectors.py\u001b[0m in \u001b[0;36mget_vector\u001b[0;34m(self, key, norm)\u001b[0m\n\u001b[1;32m    436\u001b[0m \u001b[0;34m\u001b[0m\u001b[0m\n\u001b[1;32m    437\u001b[0m         \"\"\"\n\u001b[0;32m--> 438\u001b[0;31m         \u001b[0mindex\u001b[0m \u001b[0;34m=\u001b[0m \u001b[0mself\u001b[0m\u001b[0;34m.\u001b[0m\u001b[0mget_index\u001b[0m\u001b[0;34m(\u001b[0m\u001b[0mkey\u001b[0m\u001b[0;34m)\u001b[0m\u001b[0;34m\u001b[0m\u001b[0;34m\u001b[0m\u001b[0m\n\u001b[0m\u001b[1;32m    439\u001b[0m         \u001b[0;32mif\u001b[0m \u001b[0mnorm\u001b[0m\u001b[0;34m:\u001b[0m\u001b[0;34m\u001b[0m\u001b[0;34m\u001b[0m\u001b[0m\n\u001b[1;32m    440\u001b[0m             \u001b[0mself\u001b[0m\u001b[0;34m.\u001b[0m\u001b[0mfill_norms\u001b[0m\u001b[0;34m(\u001b[0m\u001b[0;34m)\u001b[0m\u001b[0;34m\u001b[0m\u001b[0;34m\u001b[0m\u001b[0m\n",
      "\u001b[0;32m/Library/Frameworks/Python.framework/Versions/3.6/lib/python3.6/site-packages/gensim/models/keyedvectors.py\u001b[0m in \u001b[0;36mget_index\u001b[0;34m(self, key, default)\u001b[0m\n\u001b[1;32m    410\u001b[0m             \u001b[0;32mreturn\u001b[0m \u001b[0mdefault\u001b[0m\u001b[0;34m\u001b[0m\u001b[0;34m\u001b[0m\u001b[0m\n\u001b[1;32m    411\u001b[0m         \u001b[0;32melse\u001b[0m\u001b[0;34m:\u001b[0m\u001b[0;34m\u001b[0m\u001b[0;34m\u001b[0m\u001b[0m\n\u001b[0;32m--> 412\u001b[0;31m             \u001b[0;32mraise\u001b[0m \u001b[0mKeyError\u001b[0m\u001b[0;34m(\u001b[0m\u001b[0;34mf\"Key '{key}' not present\"\u001b[0m\u001b[0;34m)\u001b[0m\u001b[0;34m\u001b[0m\u001b[0;34m\u001b[0m\u001b[0m\n\u001b[0m\u001b[1;32m    413\u001b[0m \u001b[0;34m\u001b[0m\u001b[0m\n\u001b[1;32m    414\u001b[0m     \u001b[0;32mdef\u001b[0m \u001b[0mget_vector\u001b[0m\u001b[0;34m(\u001b[0m\u001b[0mself\u001b[0m\u001b[0;34m,\u001b[0m \u001b[0mkey\u001b[0m\u001b[0;34m,\u001b[0m \u001b[0mnorm\u001b[0m\u001b[0;34m=\u001b[0m\u001b[0;32mFalse\u001b[0m\u001b[0;34m)\u001b[0m\u001b[0;34m:\u001b[0m\u001b[0;34m\u001b[0m\u001b[0;34m\u001b[0m\u001b[0m\n",
      "\u001b[0;31mKeyError\u001b[0m: \"Key 'next_lecture' not present\""
     ]
    }
   ],
   "source": [
    "model.wv.similarity(\"vector_space\", \"next_lecture\")"
   ]
  },
  {
   "cell_type": "code",
   "execution_count": 10,
   "id": "600b178b",
   "metadata": {},
   "outputs": [],
   "source": [
    "import numpy as np\n",
    "import tensorflow as tf\n",
    "from tensorflow import keras"
   ]
  },
  {
   "cell_type": "code",
   "execution_count": 11,
   "id": "10a9bedd",
   "metadata": {},
   "outputs": [],
   "source": [
    "hitx = []\n",
    "hity = []\n",
    "pos = 0\n",
    "neg = 0\n",
    "                \n",
    "with open(\"miss.dat\") as f:\n",
    "    for line in f:\n",
    "        for word in utils.simple_preprocess(line):\n",
    "            try:\n",
    "                hitx.append(model.wv[word])\n",
    "                hity.append(0.0)\n",
    "                neg += 1\n",
    "            except:\n",
    "                continue\n",
    "with open(\"hits.dat\") as f:\n",
    "    for line in f:\n",
    "        for word in utils.simple_preprocess(line):\n",
    "            try:\n",
    "                vec = model.wv[word]\n",
    "                hitx.append(vec)\n",
    "                hity.append(1.0)\n",
    "                pos += 1\n",
    "            except:\n",
    "                continue\n",
    "hitx = np.array(hitx)\n",
    "hity = np.array(hity)"
   ]
  },
  {
   "cell_type": "code",
   "execution_count": 15,
   "id": "8139ee7c",
   "metadata": {},
   "outputs": [],
   "source": [
    "initial_bias = np.log([pos/neg])\n",
    "output_bias = tf.keras.initializers.Constant(initial_bias)\n",
    "nnet = tf.keras.Sequential([\n",
    "    tf.keras.layers.Dense(100, activation='tanh'),\n",
    "    tf.keras.layers.Dropout(0.3),\n",
    "    tf.keras.layers.Dense(10, activation='relu'),\n",
    "    tf.keras.layers.Dense(1, activation='sigmoid',bias_initializer= output_bias)])\n",
    "nnet.compile(optimizer=\"adam\", loss='binary_crossentropy', metrics=['binary_accuracy'])\n",
    "\n",
    "sgd = keras.optimizers.SGD(lr=0.01, decay=1e-6, momentum=0.9, nesterov=True)\n"
   ]
  },
  {
   "cell_type": "code",
   "execution_count": 16,
   "id": "6c6a3b71",
   "metadata": {},
   "outputs": [
    {
     "name": "stdout",
     "output_type": "stream",
     "text": [
      "Epoch 1/3\n",
      "13009/13009 [==============================] - 11s 820us/step - loss: 0.4337 - binary_accuracy: 0.8021\n",
      "Epoch 2/3\n",
      "13009/13009 [==============================] - 11s 822us/step - loss: 0.4121 - binary_accuracy: 0.8152\n",
      "Epoch 3/3\n",
      "13009/13009 [==============================] - 10s 795us/step - loss: 0.4044 - binary_accuracy: 0.8194\n"
     ]
    },
    {
     "data": {
      "text/plain": [
       "<tensorflow.python.keras.callbacks.History at 0x1a5d3bccc40>"
      ]
     },
     "execution_count": 16,
     "metadata": {},
     "output_type": "execute_result"
    }
   ],
   "source": [
    "nnet.fit(\n",
    "  x=hitx,\n",
    "  y=hity,\n",
    "  shuffle=True,\n",
    "  epochs=3,\n",
    "  batch_size=16\n",
    ")"
   ]
  },
  {
   "cell_type": "code",
   "execution_count": 17,
   "id": "58c116cd",
   "metadata": {},
   "outputs": [
    {
     "data": {
      "text/plain": [
       "array([[0.79793197]], dtype=float32)"
      ]
     },
     "execution_count": 17,
     "metadata": {},
     "output_type": "execute_result"
    }
   ],
   "source": [
    "nnet.predict(np.array([model.wv['dcg']]))"
   ]
  },
  {
   "cell_type": "code",
   "execution_count": 42,
   "id": "5ccbb144",
   "metadata": {},
   "outputs": [],
   "source": [
    "class FastGetter:\n",
    "    def __init__(self, m, wv):\n",
    "        self.model = m\n",
    "        self.wv = wv\n",
    "        self.d = {}\n",
    "    def get(self, x):\n",
    "        r = self.d.get(x, 100)\n",
    "        if (r != 100):\n",
    "            return r\n",
    "        else:\n",
    "            r = self.model.predict(np.array([model.wv[x.strip()]]))\n",
    "            self.d[x] = r\n",
    "            return r\n",
    "    "
   ]
  },
  {
   "cell_type": "code",
   "execution_count": 47,
   "id": "1bf3b21e",
   "metadata": {},
   "outputs": [],
   "source": [
    "fg = FastGetter(nnet, model.wv)"
   ]
  },
  {
   "cell_type": "code",
   "execution_count": 48,
   "id": "13ffc9f0",
   "metadata": {},
   "outputs": [],
   "source": [
    "tol = 0.7\n",
    "\n",
    "with open(\"reducedretrieval.dat\", \"w\", encoding='utf-8') as out:\n",
    "    with open(\"textretrieval.txt\", encoding='utf-8') as f:\n",
    "        for line in f:\n",
    "            li = []\n",
    "            for sentence in line.split(\".\"):\n",
    "                accu = 0.0\n",
    "                cnt = 0\n",
    "                for word in utils.simple_preprocess(sentence):\n",
    "                    try:\n",
    "                        accu += fg.get(word)\n",
    "                        cnt+=1\n",
    "                    except:\n",
    "                        continue\n",
    "                try:\n",
    "                    accu /= cnt\n",
    "                    li.append((accu[0], sentence))\n",
    "#                     if (accu > tol):\n",
    "#                         print(sentence)\n",
    "#                     else:\n",
    "#                         print(\"passed\")\n",
    "                except:\n",
    "                    continue\n",
    "            li.sort(reverse=True)\n",
    "            li = [i for _, i in li]\n",
    "            out.write(\".\".join(li[:round(len(li)/2)]) + \"\\n\")"
   ]
  },
  {
   "cell_type": "code",
   "execution_count": 38,
   "id": "56c45116",
   "metadata": {},
   "outputs": [
    {
     "data": {
      "text/plain": [
       "'1.2'"
      ]
     },
     "execution_count": 38,
     "metadata": {},
     "output_type": "execute_result"
    }
   ],
   "source": [
    "li = [\"1\", \"2\",\"3\", \"4\"]\n",
    "\".\".join(li[:round(len(li)/2)])"
   ]
  }
 ],
 "metadata": {
  "kernelspec": {
   "display_name": "Python 3 (ipykernel)",
   "language": "python",
   "name": "python3"
  },
  "language_info": {
   "codemirror_mode": {
    "name": "ipython",
    "version": 3
   },
   "file_extension": ".py",
   "mimetype": "text/x-python",
   "name": "python",
   "nbconvert_exporter": "python",
   "pygments_lexer": "ipython3",
   "version": "3.6.8"
  }
 },
 "nbformat": 4,
 "nbformat_minor": 5
}
