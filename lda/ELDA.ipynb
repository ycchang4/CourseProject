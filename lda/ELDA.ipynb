{
 "cells": [
  {
   "cell_type": "code",
   "execution_count": 2,
   "id": "cef2f660",
   "metadata": {},
   "outputs": [],
   "source": [
    "import gensim"
   ]
  },
  {
   "cell_type": "code",
   "execution_count": 3,
   "id": "7bab011a",
   "metadata": {},
   "outputs": [],
   "source": [
    "class targetCorpus:\n",
    "    def __iter__(self):\n",
    "        with open(\"hits.dat\") as hits:\n",
    "            for line in hits:\n",
    "                yield line.split()\n",
    "def takelast(x):\n",
    "    return x[-1]\n"
   ]
  },
  {
   "cell_type": "code",
   "execution_count": 4,
   "id": "d9a771b9",
   "metadata": {},
   "outputs": [],
   "source": [
    "from gensim.test.utils import common_texts\n",
    "from gensim.corpora.dictionary import Dictionary\n",
    "from gensim.models import EnsembleLda"
   ]
  },
  {
   "cell_type": "code",
   "execution_count": 5,
   "id": "88839e28",
   "metadata": {},
   "outputs": [],
   "source": [
    "import gensim.downloader as api\n",
    "from gensim.corpora import Dictionary\n",
    "from nltk.stem.wordnet import WordNetLemmatizer\n",
    "\n",
    "lemmatizer = WordNetLemmatizer()\n",
    "docs = api.load('text8')"
   ]
  },
  {
   "cell_type": "code",
   "execution_count": 6,
   "id": "be957e59",
   "metadata": {},
   "outputs": [],
   "source": [
    "dictionary = Dictionary()\n",
    "dictionary.add_documents(targetCorpus())\n",
    "for doc in docs:\n",
    "    dictionary.add_documents([[lemmatizer.lemmatize(token) for token in doc]])\n",
    "dictionary.filter_extremes(no_below=20, no_above=0.5)\n",
    "\n",
    "corpus = [dictionary.doc2bow(doc) for doc in docs]"
   ]
  },
  {
   "cell_type": "code",
   "execution_count": 7,
   "id": "c2fde6e8",
   "metadata": {},
   "outputs": [],
   "source": [
    "from gensim.models import LdaModel\n",
    "topic_model_class = LdaModel\n",
    "ensemble_workers = 4\n",
    "num_models = 8\n",
    "distance_workers = 4\n",
    "num_topics = 200\n",
    "passes = 2"
   ]
  },
  {
   "cell_type": "code",
   "execution_count": 8,
   "id": "c2dad325",
   "metadata": {},
   "outputs": [
    {
     "name": "stdout",
     "output_type": "stream",
     "text": [
      "1600\n",
      "5\n"
     ]
    }
   ],
   "source": [
    "from gensim.models import EnsembleLda\n",
    "ensemble = EnsembleLda(\n",
    "    corpus=corpus,\n",
    "    id2word=dictionary,\n",
    "    num_topics=num_topics,\n",
    "    passes=passes,\n",
    "    num_models=num_models,\n",
    "    topic_model_class=LdaModel,\n",
    "    ensemble_workers=ensemble_workers,\n",
    "    distance_workers=distance_workers\n",
    ")\n",
    "\n",
    "print(len(ensemble.ttda))\n",
    "print(len(ensemble.get_topics()))"
   ]
  },
  {
   "cell_type": "code",
   "execution_count": 12,
   "id": "3ea437d0",
   "metadata": {},
   "outputs": [
    {
     "name": "stdout",
     "output_type": "stream",
     "text": [
      "5\n"
     ]
    }
   ],
   "source": [
    "ensemble.recluster(eps=0.1)\n",
    "\n",
    "print(len(ensemble.get_topics()))"
   ]
  },
  {
   "cell_type": "code",
   "execution_count": 14,
   "id": "f79c9184",
   "metadata": {},
   "outputs": [],
   "source": [
    "elda = ensemble\n",
    "with open(\"hits.dat\") as hits:\n",
    "    for line in hits:\n",
    "        c = [dictionary.doc2bow(line.split())]\n",
    "        elda.add_model(LdaModel(c, id2word=dictionary, num_topics=3))\n",
    "elda.recluster()"
   ]
  },
  {
   "cell_type": "code",
   "execution_count": 77,
   "id": "6d944ce9",
   "metadata": {
    "scrolled": true
   },
   "outputs": [
    {
     "name": "stdout",
     "output_type": "stream",
     "text": [
      "448\n",
      "2\n",
      "[(1, 0.7519974), (0, 0.24800262)]\n",
      "topic (1, 0.7519974)\n",
      "[(1, '0.029*\"as\" + 0.001*\"times\" + 0.001*\"player\" + 0.001*\"km\" + 0.001*\"team\" + 0.001*\"college\" + 0.001*\"means\" + 0.001*\"soviet\" + 0.001*\"al\" + 0.001*\"league\"')]\n",
      "topic (0, 0.24800262)\n",
      "[(1, '0.029*\"as\" + 0.001*\"times\" + 0.001*\"player\" + 0.001*\"km\" + 0.001*\"team\" + 0.001*\"college\" + 0.001*\"means\" + 0.001*\"soviet\" + 0.001*\"al\" + 0.001*\"league\"'), (0, '0.000*\"indicate\" + 0.000*\"responding\" + 0.000*\"precisely\" + 0.000*\"respond\" + 0.000*\"interpreted\" + 0.000*\"incapable\" + 0.000*\"keyword\" + 0.000*\"output\" + 0.000*\"grained\" + 0.000*\"describe\"')]\n"
     ]
    }
   ],
   "source": [
    "i = 22\n",
    "i-=1\n",
    "model = elda\n",
    "c = [dictionary.doc2bow(doc) for doc in targetCorpus()]\n",
    "top_topics = elda[c[i]] # [(topic_id, prob)]\n",
    "print(len(ensemble.ttda))\n",
    "print(len(ensemble.get_topics()))\n",
    "#print(phrased_doc[i])\n",
    "####\n",
    "top_topics.sort(key=takelast, reverse=True)\n",
    "print(top_topics)\n",
    "for topic in top_topics:\n",
    "    print('topic {}'.format(topic))\n",
    "    print(model.print_topics(topic[0]))\n",
    "    i+=1\n",
    "#     topic_term_distribution = model.get_topic_terms(topic[0])\n",
    "#     for term in topic_term_distribution:\n",
    "#         print('{}, {}'.format(dictionary[term[0]], term[1]))\n",
    "#     print('prob: {}'.format(topic[-1]))"
   ]
  }
 ],
 "metadata": {
  "kernelspec": {
   "display_name": "Python 3 (ipykernel)",
   "language": "python",
   "name": "python3"
  },
  "language_info": {
   "codemirror_mode": {
    "name": "ipython",
    "version": 3
   },
   "file_extension": ".py",
   "mimetype": "text/x-python",
   "name": "python",
   "nbconvert_exporter": "python",
   "pygments_lexer": "ipython3",
   "version": "3.8.8"
  }
 },
 "nbformat": 4,
 "nbformat_minor": 5
}
